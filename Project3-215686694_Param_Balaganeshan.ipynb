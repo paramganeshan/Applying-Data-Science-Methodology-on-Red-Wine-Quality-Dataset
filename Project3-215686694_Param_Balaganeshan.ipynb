{
 "cells": [
  {
   "cell_type": "markdown",
   "id": "5e402230",
   "metadata": {},
   "source": [
    "## Project - Applying Data Science Methodology on Red Wine Quality Dataset\n",
    "\n",
    "<img src=\"https://media.giphy.com/media/jRuv9xc10lVyE/giphy.gif\">\n",
    "\n",
    "You can read more about the Data Science Methodology from this [IBM whitepaper](https://tdwi.org/~/media/64511A895D86457E964174EDC5C4C7B1.PDF) by John Rollins\n",
    "\n",
    "[Link](https://archive.ics.uci.edu/ml/datasets/wine+quality) for the dataset for context\n",
    "\n",
    "<img src=\"https://media-exp1.licdn.com/dms/image/C4D12AQGOPVf5iqhhwQ/article-inline_image-shrink_1000_1488/0/1597756152693?e=1652918400&v=beta&t=iKZ2jX3khsx11lD9JyZWDz-j-Gt2hZsKPXz5rZ0iE1M\">"
   ]
  },
  {
   "cell_type": "markdown",
   "id": "96fa59d2",
   "metadata": {
    "button": false,
    "new_sheet": false,
    "run_control": {
     "read_only": false
    }
   },
   "source": [
    "### Business Understanding\n",
    "\n",
    "The red wine industry shows a recent exponential growth as social drinking is on the rise. Nowadays, industry players are using product quality certifications to promote their products. This is a time-consuming process and requires the assessment given by human experts, which makes this process very expensive. Also, the price of red wine depends on a rather abstract concept of wine appreciation by wine tasters, opinion among whom may have a high degree of variability. Another vital factor in red wine certification and quality assessment is physicochemical tests, which are laboratory-based and consider factors like acidity, pH level, sugar, and other chemical properties. The red wine market would be of interest if the human quality of tasting can be related to wine’s chemical properties so that certification and quality assessment and assurance processes are more controlled. \n",
    "\n",
    "The goal is to implement Regression Models and Classification Models on the Red Wine Quality Dataset to determine which features are the best quality red wine indicators and generate insights into each of these factors to our model’s red wine quality."
   ]
  },
  {
   "cell_type": "markdown",
   "id": "ead99b54",
   "metadata": {},
   "source": [
    "### Analytic Approach\n",
    "Based on the above business understanding one should decide the analytical approach to follow. The approaches can be of 4 types: Descriptive approach (current status and information provided), Diagnostic approach(a.k.a statistical analysis, what is happening and why it is happening), Predictive approach(it forecasts on the trends or future events probability) and Prescriptive approach( how the problem should be solved actually).\n",
    "\n",
    "**Q1. What is the analytical approach that you would take for this project? Why do you think its the right approach?**\n",
    "\n",
    "Diagnostic approach may be the right one as we can ask \"Why do these people like certain wines over others?\" by looking at all the features and comparing them to the quality. Diagnostic analytics examines data or content to answer \"Why did it happen?\".\n",
    "\n",
    "Prescriptive approach may be the right approach as we are trying to find the features that determine the best quality. If we find a definitive response after completing the analysis, we can then \"prescribe\" the recipe that will generate the best wine based on the data and this in turn will create a better business model based on data."
   ]
  },
  {
   "cell_type": "markdown",
   "id": "12766c3d",
   "metadata": {},
   "source": [
    "### Data Requirements\n",
    "\n",
    "**Q2. What kind of data do we require for predicting the red wine quality and for determining the features that are the best quality red wine indicators?**\n",
    "\n",
    "For more information, read [Cortez et al., 2009]. <br>\n",
    "Input variables (based on physicochemical tests): <br>\n",
    "1 - fixed acidity <br>\n",
    "2 - volatile acidity <br>\n",
    "3 - citric acid <br>\n",
    "4 - residual sugar <br>\n",
    "5 - chlorides <br>\n",
    "6 - free sulfur dioxide <br>\n",
    "7 - total sulfur dioxide <br>\n",
    "8 - density <br>\n",
    "9 - pH <br>\n",
    "10 - sulphates <br>\n",
    "11 - alcohol <br>\n",
    "Output variable (based on sensory data): <br>\n",
    "12 - quality (score between 0 and 10) <br>"
   ]
  },
  {
   "cell_type": "markdown",
   "id": "5d59c819",
   "metadata": {},
   "source": [
    "### Data Collection\n",
    "\n",
    "**Q3. From where do we get our data?**\n",
    "\n",
    "Paulo Cortez, University of Minho, Guimarães, Portugal, http://www3.dsi.uminho.pt/pcortez\n",
    "A. Cerdeira, F. Almeida, T. Matos and J. Reis, Viticulture Commission of the Vinho Verde Region(CVRVV), Porto, Portugal\n",
    "@2009\n",
    "\n",
    "https://archive.ics.uci.edu/ml/datasets/wine+quality"
   ]
  },
  {
   "cell_type": "markdown",
   "id": "c8419dbc",
   "metadata": {},
   "source": [
    "### Data Understanding\n",
    "\n",
    "Link for the dataset https://archive.ics.uci.edu/ml/datasets/wine+quality for context\n",
    "\n",
    "**Q4. From where are red wine samples obtained?**\n",
    "\n",
    "The two datasets are related to red and white variants of the Portuguese \"Vinho Verde\" wine. For more details, consult: [Web Link] or the reference [Cortez et al., 2009]. Due to privacy and logistic issues, only physicochemical (inputs) and sensory (the output) variables are available (e.g. there is no data about grape types, wine brand, wine selling price, etc.).\n",
    "\n",
    "**Q5. How can knowing the impact of each variable on the red wine quality help businesses(producers, distributors, etc) ?**\n",
    "\n",
    "Knowing the impact of each variable can allow a business have an understanding of which variables are the most important for quality when creating a recipe for a wine. This way your wine is more likely to be liked by the public and have the statistics to back the recipe.\n",
    " <br>\n",
    " <br>\n",
    "<li>Check the shape of data, and the datatypes of the features</li>\n",
    "<li>Understand the data by carrying out any steps that you think are necessary</li>"
   ]
  },
  {
   "cell_type": "markdown",
   "id": "6e42772d",
   "metadata": {},
   "source": [
    "#### Reading Data"
   ]
  },
  {
   "cell_type": "code",
   "execution_count": 2,
   "id": "be5412b3",
   "metadata": {
    "scrolled": true
   },
   "outputs": [
    {
     "data": {
      "text/html": [
       "<div>\n",
       "<style scoped>\n",
       "    .dataframe tbody tr th:only-of-type {\n",
       "        vertical-align: middle;\n",
       "    }\n",
       "\n",
       "    .dataframe tbody tr th {\n",
       "        vertical-align: top;\n",
       "    }\n",
       "\n",
       "    .dataframe thead th {\n",
       "        text-align: right;\n",
       "    }\n",
       "</style>\n",
       "<table border=\"1\" class=\"dataframe\">\n",
       "  <thead>\n",
       "    <tr style=\"text-align: right;\">\n",
       "      <th></th>\n",
       "      <th>fixed acidity</th>\n",
       "      <th>volatile acidity</th>\n",
       "      <th>citric acid</th>\n",
       "      <th>residual sugar</th>\n",
       "      <th>chlorides</th>\n",
       "      <th>free sulfur dioxide</th>\n",
       "      <th>total sulfur dioxide</th>\n",
       "      <th>density</th>\n",
       "      <th>pH</th>\n",
       "      <th>sulphates</th>\n",
       "      <th>alcohol</th>\n",
       "      <th>quality</th>\n",
       "    </tr>\n",
       "  </thead>\n",
       "  <tbody>\n",
       "    <tr>\n",
       "      <th>0</th>\n",
       "      <td>7.4</td>\n",
       "      <td>0.70</td>\n",
       "      <td>0.00</td>\n",
       "      <td>1.9</td>\n",
       "      <td>0.076</td>\n",
       "      <td>11.0</td>\n",
       "      <td>34.0</td>\n",
       "      <td>0.9978</td>\n",
       "      <td>3.51</td>\n",
       "      <td>0.56</td>\n",
       "      <td>9.4</td>\n",
       "      <td>5</td>\n",
       "    </tr>\n",
       "    <tr>\n",
       "      <th>1</th>\n",
       "      <td>7.8</td>\n",
       "      <td>0.88</td>\n",
       "      <td>0.00</td>\n",
       "      <td>2.6</td>\n",
       "      <td>0.098</td>\n",
       "      <td>25.0</td>\n",
       "      <td>67.0</td>\n",
       "      <td>0.9968</td>\n",
       "      <td>3.20</td>\n",
       "      <td>0.68</td>\n",
       "      <td>9.8</td>\n",
       "      <td>5</td>\n",
       "    </tr>\n",
       "    <tr>\n",
       "      <th>2</th>\n",
       "      <td>7.8</td>\n",
       "      <td>0.76</td>\n",
       "      <td>0.04</td>\n",
       "      <td>2.3</td>\n",
       "      <td>0.092</td>\n",
       "      <td>15.0</td>\n",
       "      <td>54.0</td>\n",
       "      <td>0.9970</td>\n",
       "      <td>3.26</td>\n",
       "      <td>0.65</td>\n",
       "      <td>9.8</td>\n",
       "      <td>5</td>\n",
       "    </tr>\n",
       "    <tr>\n",
       "      <th>3</th>\n",
       "      <td>11.2</td>\n",
       "      <td>0.28</td>\n",
       "      <td>0.56</td>\n",
       "      <td>1.9</td>\n",
       "      <td>0.075</td>\n",
       "      <td>17.0</td>\n",
       "      <td>60.0</td>\n",
       "      <td>0.9980</td>\n",
       "      <td>3.16</td>\n",
       "      <td>0.58</td>\n",
       "      <td>9.8</td>\n",
       "      <td>6</td>\n",
       "    </tr>\n",
       "    <tr>\n",
       "      <th>4</th>\n",
       "      <td>7.4</td>\n",
       "      <td>0.70</td>\n",
       "      <td>0.00</td>\n",
       "      <td>1.9</td>\n",
       "      <td>0.076</td>\n",
       "      <td>11.0</td>\n",
       "      <td>34.0</td>\n",
       "      <td>0.9978</td>\n",
       "      <td>3.51</td>\n",
       "      <td>0.56</td>\n",
       "      <td>9.4</td>\n",
       "      <td>5</td>\n",
       "    </tr>\n",
       "  </tbody>\n",
       "</table>\n",
       "</div>"
      ],
      "text/plain": [
       "   fixed acidity  volatile acidity  citric acid  residual sugar  chlorides  \\\n",
       "0            7.4              0.70         0.00             1.9      0.076   \n",
       "1            7.8              0.88         0.00             2.6      0.098   \n",
       "2            7.8              0.76         0.04             2.3      0.092   \n",
       "3           11.2              0.28         0.56             1.9      0.075   \n",
       "4            7.4              0.70         0.00             1.9      0.076   \n",
       "\n",
       "   free sulfur dioxide  total sulfur dioxide  density    pH  sulphates  \\\n",
       "0                 11.0                  34.0   0.9978  3.51       0.56   \n",
       "1                 25.0                  67.0   0.9968  3.20       0.68   \n",
       "2                 15.0                  54.0   0.9970  3.26       0.65   \n",
       "3                 17.0                  60.0   0.9980  3.16       0.58   \n",
       "4                 11.0                  34.0   0.9978  3.51       0.56   \n",
       "\n",
       "   alcohol  quality  \n",
       "0      9.4        5  \n",
       "1      9.8        5  \n",
       "2      9.8        5  \n",
       "3      9.8        6  \n",
       "4      9.4        5  "
      ]
     },
     "execution_count": 2,
     "metadata": {},
     "output_type": "execute_result"
    }
   ],
   "source": [
    "import matplotlib.pyplot as plt\n",
    "import numpy as np\n",
    "import pandas as pd\n",
    "import seaborn as sns\n",
    "%matplotlib inline\n",
    "\n",
    "wine_data = pd.read_csv('winequality-red.csv')\n",
    "wine_data.head()"
   ]
  },
  {
   "cell_type": "markdown",
   "id": "addc2439",
   "metadata": {},
   "source": [
    "#### Check Shape Of Data"
   ]
  },
  {
   "cell_type": "code",
   "execution_count": 4,
   "id": "f5bc2832",
   "metadata": {},
   "outputs": [
    {
     "data": {
      "text/plain": [
       "(1599, 12)"
      ]
     },
     "execution_count": 4,
     "metadata": {},
     "output_type": "execute_result"
    }
   ],
   "source": [
    "wine_data.shape"
   ]
  },
  {
   "cell_type": "markdown",
   "id": "6b59eb26",
   "metadata": {},
   "source": [
    "<b>Observation:</b> The dataset is large with 1599 wines with 12 features per wine."
   ]
  },
  {
   "cell_type": "markdown",
   "id": "41ccf941",
   "metadata": {},
   "source": [
    "#### Datatypes Of Features"
   ]
  },
  {
   "cell_type": "code",
   "execution_count": 7,
   "id": "0c906e83",
   "metadata": {
    "scrolled": true
   },
   "outputs": [
    {
     "data": {
      "text/plain": [
       "fixed acidity           float64\n",
       "volatile acidity        float64\n",
       "citric acid             float64\n",
       "residual sugar          float64\n",
       "chlorides               float64\n",
       "free sulfur dioxide     float64\n",
       "total sulfur dioxide    float64\n",
       "density                 float64\n",
       "pH                      float64\n",
       "sulphates               float64\n",
       "alcohol                 float64\n",
       "quality                   int64\n",
       "dtype: object"
      ]
     },
     "execution_count": 7,
     "metadata": {},
     "output_type": "execute_result"
    }
   ],
   "source": [
    "wine_data.dtypes"
   ]
  },
  {
   "cell_type": "markdown",
   "id": "b2a7e6a2",
   "metadata": {},
   "source": [
    "<b>Observation:</b> All the features are continuous with all being floats except for quality which is an integer within the range of 0 to 10."
   ]
  },
  {
   "cell_type": "markdown",
   "id": "444e036e",
   "metadata": {},
   "source": [
    "#### Exploring Continous Features"
   ]
  },
  {
   "cell_type": "code",
   "execution_count": 8,
   "id": "4f20fc28",
   "metadata": {
    "scrolled": false
   },
   "outputs": [
    {
     "data": {
      "text/html": [
       "<div>\n",
       "<style scoped>\n",
       "    .dataframe tbody tr th:only-of-type {\n",
       "        vertical-align: middle;\n",
       "    }\n",
       "\n",
       "    .dataframe tbody tr th {\n",
       "        vertical-align: top;\n",
       "    }\n",
       "\n",
       "    .dataframe thead th {\n",
       "        text-align: right;\n",
       "    }\n",
       "</style>\n",
       "<table border=\"1\" class=\"dataframe\">\n",
       "  <thead>\n",
       "    <tr style=\"text-align: right;\">\n",
       "      <th></th>\n",
       "      <th>fixed acidity</th>\n",
       "      <th>volatile acidity</th>\n",
       "      <th>citric acid</th>\n",
       "      <th>residual sugar</th>\n",
       "      <th>chlorides</th>\n",
       "      <th>free sulfur dioxide</th>\n",
       "      <th>total sulfur dioxide</th>\n",
       "      <th>density</th>\n",
       "      <th>pH</th>\n",
       "      <th>sulphates</th>\n",
       "      <th>alcohol</th>\n",
       "      <th>quality</th>\n",
       "    </tr>\n",
       "  </thead>\n",
       "  <tbody>\n",
       "    <tr>\n",
       "      <th>count</th>\n",
       "      <td>1599.000000</td>\n",
       "      <td>1599.000000</td>\n",
       "      <td>1599.000000</td>\n",
       "      <td>1599.000000</td>\n",
       "      <td>1599.000000</td>\n",
       "      <td>1599.000000</td>\n",
       "      <td>1599.000000</td>\n",
       "      <td>1599.000000</td>\n",
       "      <td>1599.000000</td>\n",
       "      <td>1599.000000</td>\n",
       "      <td>1599.000000</td>\n",
       "      <td>1599.000000</td>\n",
       "    </tr>\n",
       "    <tr>\n",
       "      <th>mean</th>\n",
       "      <td>8.319637</td>\n",
       "      <td>0.527821</td>\n",
       "      <td>0.270976</td>\n",
       "      <td>2.538806</td>\n",
       "      <td>0.087467</td>\n",
       "      <td>15.874922</td>\n",
       "      <td>46.467792</td>\n",
       "      <td>0.996747</td>\n",
       "      <td>3.311113</td>\n",
       "      <td>0.658149</td>\n",
       "      <td>10.422983</td>\n",
       "      <td>5.636023</td>\n",
       "    </tr>\n",
       "    <tr>\n",
       "      <th>std</th>\n",
       "      <td>1.741096</td>\n",
       "      <td>0.179060</td>\n",
       "      <td>0.194801</td>\n",
       "      <td>1.409928</td>\n",
       "      <td>0.047065</td>\n",
       "      <td>10.460157</td>\n",
       "      <td>32.895324</td>\n",
       "      <td>0.001887</td>\n",
       "      <td>0.154386</td>\n",
       "      <td>0.169507</td>\n",
       "      <td>1.065668</td>\n",
       "      <td>0.807569</td>\n",
       "    </tr>\n",
       "    <tr>\n",
       "      <th>min</th>\n",
       "      <td>4.600000</td>\n",
       "      <td>0.120000</td>\n",
       "      <td>0.000000</td>\n",
       "      <td>0.900000</td>\n",
       "      <td>0.012000</td>\n",
       "      <td>1.000000</td>\n",
       "      <td>6.000000</td>\n",
       "      <td>0.990070</td>\n",
       "      <td>2.740000</td>\n",
       "      <td>0.330000</td>\n",
       "      <td>8.400000</td>\n",
       "      <td>3.000000</td>\n",
       "    </tr>\n",
       "    <tr>\n",
       "      <th>25%</th>\n",
       "      <td>7.100000</td>\n",
       "      <td>0.390000</td>\n",
       "      <td>0.090000</td>\n",
       "      <td>1.900000</td>\n",
       "      <td>0.070000</td>\n",
       "      <td>7.000000</td>\n",
       "      <td>22.000000</td>\n",
       "      <td>0.995600</td>\n",
       "      <td>3.210000</td>\n",
       "      <td>0.550000</td>\n",
       "      <td>9.500000</td>\n",
       "      <td>5.000000</td>\n",
       "    </tr>\n",
       "    <tr>\n",
       "      <th>50%</th>\n",
       "      <td>7.900000</td>\n",
       "      <td>0.520000</td>\n",
       "      <td>0.260000</td>\n",
       "      <td>2.200000</td>\n",
       "      <td>0.079000</td>\n",
       "      <td>14.000000</td>\n",
       "      <td>38.000000</td>\n",
       "      <td>0.996750</td>\n",
       "      <td>3.310000</td>\n",
       "      <td>0.620000</td>\n",
       "      <td>10.200000</td>\n",
       "      <td>6.000000</td>\n",
       "    </tr>\n",
       "    <tr>\n",
       "      <th>75%</th>\n",
       "      <td>9.200000</td>\n",
       "      <td>0.640000</td>\n",
       "      <td>0.420000</td>\n",
       "      <td>2.600000</td>\n",
       "      <td>0.090000</td>\n",
       "      <td>21.000000</td>\n",
       "      <td>62.000000</td>\n",
       "      <td>0.997835</td>\n",
       "      <td>3.400000</td>\n",
       "      <td>0.730000</td>\n",
       "      <td>11.100000</td>\n",
       "      <td>6.000000</td>\n",
       "    </tr>\n",
       "    <tr>\n",
       "      <th>max</th>\n",
       "      <td>15.900000</td>\n",
       "      <td>1.580000</td>\n",
       "      <td>1.000000</td>\n",
       "      <td>15.500000</td>\n",
       "      <td>0.611000</td>\n",
       "      <td>72.000000</td>\n",
       "      <td>289.000000</td>\n",
       "      <td>1.003690</td>\n",
       "      <td>4.010000</td>\n",
       "      <td>2.000000</td>\n",
       "      <td>14.900000</td>\n",
       "      <td>8.000000</td>\n",
       "    </tr>\n",
       "  </tbody>\n",
       "</table>\n",
       "</div>"
      ],
      "text/plain": [
       "       fixed acidity  volatile acidity  citric acid  residual sugar  \\\n",
       "count    1599.000000       1599.000000  1599.000000     1599.000000   \n",
       "mean        8.319637          0.527821     0.270976        2.538806   \n",
       "std         1.741096          0.179060     0.194801        1.409928   \n",
       "min         4.600000          0.120000     0.000000        0.900000   \n",
       "25%         7.100000          0.390000     0.090000        1.900000   \n",
       "50%         7.900000          0.520000     0.260000        2.200000   \n",
       "75%         9.200000          0.640000     0.420000        2.600000   \n",
       "max        15.900000          1.580000     1.000000       15.500000   \n",
       "\n",
       "         chlorides  free sulfur dioxide  total sulfur dioxide      density  \\\n",
       "count  1599.000000          1599.000000           1599.000000  1599.000000   \n",
       "mean      0.087467            15.874922             46.467792     0.996747   \n",
       "std       0.047065            10.460157             32.895324     0.001887   \n",
       "min       0.012000             1.000000              6.000000     0.990070   \n",
       "25%       0.070000             7.000000             22.000000     0.995600   \n",
       "50%       0.079000            14.000000             38.000000     0.996750   \n",
       "75%       0.090000            21.000000             62.000000     0.997835   \n",
       "max       0.611000            72.000000            289.000000     1.003690   \n",
       "\n",
       "                pH    sulphates      alcohol      quality  \n",
       "count  1599.000000  1599.000000  1599.000000  1599.000000  \n",
       "mean      3.311113     0.658149    10.422983     5.636023  \n",
       "std       0.154386     0.169507     1.065668     0.807569  \n",
       "min       2.740000     0.330000     8.400000     3.000000  \n",
       "25%       3.210000     0.550000     9.500000     5.000000  \n",
       "50%       3.310000     0.620000    10.200000     6.000000  \n",
       "75%       3.400000     0.730000    11.100000     6.000000  \n",
       "max       4.010000     2.000000    14.900000     8.000000  "
      ]
     },
     "execution_count": 8,
     "metadata": {},
     "output_type": "execute_result"
    }
   ],
   "source": [
    "wine_data.describe()"
   ]
  },
  {
   "cell_type": "markdown",
   "id": "5f41780f",
   "metadata": {},
   "source": [
    "<b>Observation:</b> It is interesting to see that the average quality for all the wines is a 5.636. If we are to assume that 5.0 is a passing quality, then the majority of wines have a passing quality. "
   ]
  },
  {
   "cell_type": "code",
   "execution_count": 10,
   "id": "5d70df76",
   "metadata": {
    "scrolled": true
   },
   "outputs": [
    {
     "data": {
      "text/html": [
       "<div>\n",
       "<style scoped>\n",
       "    .dataframe tbody tr th:only-of-type {\n",
       "        vertical-align: middle;\n",
       "    }\n",
       "\n",
       "    .dataframe tbody tr th {\n",
       "        vertical-align: top;\n",
       "    }\n",
       "\n",
       "    .dataframe thead th {\n",
       "        text-align: right;\n",
       "    }\n",
       "</style>\n",
       "<table border=\"1\" class=\"dataframe\">\n",
       "  <thead>\n",
       "    <tr style=\"text-align: right;\">\n",
       "      <th></th>\n",
       "      <th>fixed acidity</th>\n",
       "      <th>volatile acidity</th>\n",
       "      <th>citric acid</th>\n",
       "      <th>residual sugar</th>\n",
       "      <th>chlorides</th>\n",
       "      <th>free sulfur dioxide</th>\n",
       "      <th>total sulfur dioxide</th>\n",
       "      <th>density</th>\n",
       "      <th>pH</th>\n",
       "      <th>sulphates</th>\n",
       "      <th>alcohol</th>\n",
       "    </tr>\n",
       "    <tr>\n",
       "      <th>quality</th>\n",
       "      <th></th>\n",
       "      <th></th>\n",
       "      <th></th>\n",
       "      <th></th>\n",
       "      <th></th>\n",
       "      <th></th>\n",
       "      <th></th>\n",
       "      <th></th>\n",
       "      <th></th>\n",
       "      <th></th>\n",
       "      <th></th>\n",
       "    </tr>\n",
       "  </thead>\n",
       "  <tbody>\n",
       "    <tr>\n",
       "      <th>3</th>\n",
       "      <td>8.360000</td>\n",
       "      <td>0.884500</td>\n",
       "      <td>0.171000</td>\n",
       "      <td>2.635000</td>\n",
       "      <td>0.122500</td>\n",
       "      <td>11.000000</td>\n",
       "      <td>24.900000</td>\n",
       "      <td>0.997464</td>\n",
       "      <td>3.398000</td>\n",
       "      <td>0.570000</td>\n",
       "      <td>9.955000</td>\n",
       "    </tr>\n",
       "    <tr>\n",
       "      <th>4</th>\n",
       "      <td>7.779245</td>\n",
       "      <td>0.693962</td>\n",
       "      <td>0.174151</td>\n",
       "      <td>2.694340</td>\n",
       "      <td>0.090679</td>\n",
       "      <td>12.264151</td>\n",
       "      <td>36.245283</td>\n",
       "      <td>0.996542</td>\n",
       "      <td>3.381509</td>\n",
       "      <td>0.596415</td>\n",
       "      <td>10.265094</td>\n",
       "    </tr>\n",
       "    <tr>\n",
       "      <th>5</th>\n",
       "      <td>8.167254</td>\n",
       "      <td>0.577041</td>\n",
       "      <td>0.243686</td>\n",
       "      <td>2.528855</td>\n",
       "      <td>0.092736</td>\n",
       "      <td>16.983847</td>\n",
       "      <td>56.513950</td>\n",
       "      <td>0.997104</td>\n",
       "      <td>3.304949</td>\n",
       "      <td>0.620969</td>\n",
       "      <td>9.899706</td>\n",
       "    </tr>\n",
       "    <tr>\n",
       "      <th>6</th>\n",
       "      <td>8.347179</td>\n",
       "      <td>0.497484</td>\n",
       "      <td>0.273824</td>\n",
       "      <td>2.477194</td>\n",
       "      <td>0.084956</td>\n",
       "      <td>15.711599</td>\n",
       "      <td>40.869906</td>\n",
       "      <td>0.996615</td>\n",
       "      <td>3.318072</td>\n",
       "      <td>0.675329</td>\n",
       "      <td>10.629519</td>\n",
       "    </tr>\n",
       "    <tr>\n",
       "      <th>7</th>\n",
       "      <td>8.872362</td>\n",
       "      <td>0.403920</td>\n",
       "      <td>0.375176</td>\n",
       "      <td>2.720603</td>\n",
       "      <td>0.076588</td>\n",
       "      <td>14.045226</td>\n",
       "      <td>35.020101</td>\n",
       "      <td>0.996104</td>\n",
       "      <td>3.290754</td>\n",
       "      <td>0.741256</td>\n",
       "      <td>11.465913</td>\n",
       "    </tr>\n",
       "    <tr>\n",
       "      <th>8</th>\n",
       "      <td>8.566667</td>\n",
       "      <td>0.423333</td>\n",
       "      <td>0.391111</td>\n",
       "      <td>2.577778</td>\n",
       "      <td>0.068444</td>\n",
       "      <td>13.277778</td>\n",
       "      <td>33.444444</td>\n",
       "      <td>0.995212</td>\n",
       "      <td>3.267222</td>\n",
       "      <td>0.767778</td>\n",
       "      <td>12.094444</td>\n",
       "    </tr>\n",
       "  </tbody>\n",
       "</table>\n",
       "</div>"
      ],
      "text/plain": [
       "         fixed acidity  volatile acidity  citric acid  residual sugar  \\\n",
       "quality                                                                 \n",
       "3             8.360000          0.884500     0.171000        2.635000   \n",
       "4             7.779245          0.693962     0.174151        2.694340   \n",
       "5             8.167254          0.577041     0.243686        2.528855   \n",
       "6             8.347179          0.497484     0.273824        2.477194   \n",
       "7             8.872362          0.403920     0.375176        2.720603   \n",
       "8             8.566667          0.423333     0.391111        2.577778   \n",
       "\n",
       "         chlorides  free sulfur dioxide  total sulfur dioxide   density  \\\n",
       "quality                                                                   \n",
       "3         0.122500            11.000000             24.900000  0.997464   \n",
       "4         0.090679            12.264151             36.245283  0.996542   \n",
       "5         0.092736            16.983847             56.513950  0.997104   \n",
       "6         0.084956            15.711599             40.869906  0.996615   \n",
       "7         0.076588            14.045226             35.020101  0.996104   \n",
       "8         0.068444            13.277778             33.444444  0.995212   \n",
       "\n",
       "               pH  sulphates    alcohol  \n",
       "quality                                  \n",
       "3        3.398000   0.570000   9.955000  \n",
       "4        3.381509   0.596415  10.265094  \n",
       "5        3.304949   0.620969   9.899706  \n",
       "6        3.318072   0.675329  10.629519  \n",
       "7        3.290754   0.741256  11.465913  \n",
       "8        3.267222   0.767778  12.094444  "
      ]
     },
     "execution_count": 10,
     "metadata": {},
     "output_type": "execute_result"
    }
   ],
   "source": [
    "wine_data.groupby(['quality']).mean()"
   ]
  },
  {
   "cell_type": "markdown",
   "id": "e7122856",
   "metadata": {},
   "source": [
    "<b>Observation:</b> Based on the dataset, it states that quality is from 0-10 but suprisingly, there are integer values missing, [0,1,2,9,10]. Although the dataset is large, no wine received a quality lower than 3 or higher than 8. "
   ]
  },
  {
   "cell_type": "markdown",
   "id": "c15c729f",
   "metadata": {},
   "source": [
    "<b>Recall:</b> We want to find which qualities gives us the best quality according to the dataset."
   ]
  },
  {
   "cell_type": "code",
   "execution_count": 11,
   "id": "a437a9d9",
   "metadata": {
    "scrolled": false
   },
   "outputs": [
    {
     "data": {
      "text/html": [
       "<div>\n",
       "<style scoped>\n",
       "    .dataframe tbody tr th:only-of-type {\n",
       "        vertical-align: middle;\n",
       "    }\n",
       "\n",
       "    .dataframe tbody tr th {\n",
       "        vertical-align: top;\n",
       "    }\n",
       "\n",
       "    .dataframe thead th {\n",
       "        text-align: right;\n",
       "    }\n",
       "</style>\n",
       "<table border=\"1\" class=\"dataframe\">\n",
       "  <thead>\n",
       "    <tr style=\"text-align: right;\">\n",
       "      <th></th>\n",
       "      <th>fixed acidity</th>\n",
       "      <th>volatile acidity</th>\n",
       "      <th>citric acid</th>\n",
       "      <th>residual sugar</th>\n",
       "      <th>chlorides</th>\n",
       "      <th>free sulfur dioxide</th>\n",
       "      <th>total sulfur dioxide</th>\n",
       "      <th>density</th>\n",
       "      <th>pH</th>\n",
       "      <th>sulphates</th>\n",
       "      <th>alcohol</th>\n",
       "      <th>quality</th>\n",
       "    </tr>\n",
       "  </thead>\n",
       "  <tbody>\n",
       "    <tr>\n",
       "      <th>fixed acidity</th>\n",
       "      <td>1.000000</td>\n",
       "      <td>-0.256131</td>\n",
       "      <td>0.671703</td>\n",
       "      <td>0.114777</td>\n",
       "      <td>0.093705</td>\n",
       "      <td>-0.153794</td>\n",
       "      <td>-0.113181</td>\n",
       "      <td>0.668047</td>\n",
       "      <td>-0.682978</td>\n",
       "      <td>0.183006</td>\n",
       "      <td>-0.061668</td>\n",
       "      <td>0.124052</td>\n",
       "    </tr>\n",
       "    <tr>\n",
       "      <th>volatile acidity</th>\n",
       "      <td>-0.256131</td>\n",
       "      <td>1.000000</td>\n",
       "      <td>-0.552496</td>\n",
       "      <td>0.001918</td>\n",
       "      <td>0.061298</td>\n",
       "      <td>-0.010504</td>\n",
       "      <td>0.076470</td>\n",
       "      <td>0.022026</td>\n",
       "      <td>0.234937</td>\n",
       "      <td>-0.260987</td>\n",
       "      <td>-0.202288</td>\n",
       "      <td>-0.390558</td>\n",
       "    </tr>\n",
       "    <tr>\n",
       "      <th>citric acid</th>\n",
       "      <td>0.671703</td>\n",
       "      <td>-0.552496</td>\n",
       "      <td>1.000000</td>\n",
       "      <td>0.143577</td>\n",
       "      <td>0.203823</td>\n",
       "      <td>-0.060978</td>\n",
       "      <td>0.035533</td>\n",
       "      <td>0.364947</td>\n",
       "      <td>-0.541904</td>\n",
       "      <td>0.312770</td>\n",
       "      <td>0.109903</td>\n",
       "      <td>0.226373</td>\n",
       "    </tr>\n",
       "    <tr>\n",
       "      <th>residual sugar</th>\n",
       "      <td>0.114777</td>\n",
       "      <td>0.001918</td>\n",
       "      <td>0.143577</td>\n",
       "      <td>1.000000</td>\n",
       "      <td>0.055610</td>\n",
       "      <td>0.187049</td>\n",
       "      <td>0.203028</td>\n",
       "      <td>0.355283</td>\n",
       "      <td>-0.085652</td>\n",
       "      <td>0.005527</td>\n",
       "      <td>0.042075</td>\n",
       "      <td>0.013732</td>\n",
       "    </tr>\n",
       "    <tr>\n",
       "      <th>chlorides</th>\n",
       "      <td>0.093705</td>\n",
       "      <td>0.061298</td>\n",
       "      <td>0.203823</td>\n",
       "      <td>0.055610</td>\n",
       "      <td>1.000000</td>\n",
       "      <td>0.005562</td>\n",
       "      <td>0.047400</td>\n",
       "      <td>0.200632</td>\n",
       "      <td>-0.265026</td>\n",
       "      <td>0.371260</td>\n",
       "      <td>-0.221141</td>\n",
       "      <td>-0.128907</td>\n",
       "    </tr>\n",
       "    <tr>\n",
       "      <th>free sulfur dioxide</th>\n",
       "      <td>-0.153794</td>\n",
       "      <td>-0.010504</td>\n",
       "      <td>-0.060978</td>\n",
       "      <td>0.187049</td>\n",
       "      <td>0.005562</td>\n",
       "      <td>1.000000</td>\n",
       "      <td>0.667666</td>\n",
       "      <td>-0.021946</td>\n",
       "      <td>0.070377</td>\n",
       "      <td>0.051658</td>\n",
       "      <td>-0.069408</td>\n",
       "      <td>-0.050656</td>\n",
       "    </tr>\n",
       "    <tr>\n",
       "      <th>total sulfur dioxide</th>\n",
       "      <td>-0.113181</td>\n",
       "      <td>0.076470</td>\n",
       "      <td>0.035533</td>\n",
       "      <td>0.203028</td>\n",
       "      <td>0.047400</td>\n",
       "      <td>0.667666</td>\n",
       "      <td>1.000000</td>\n",
       "      <td>0.071269</td>\n",
       "      <td>-0.066495</td>\n",
       "      <td>0.042947</td>\n",
       "      <td>-0.205654</td>\n",
       "      <td>-0.185100</td>\n",
       "    </tr>\n",
       "    <tr>\n",
       "      <th>density</th>\n",
       "      <td>0.668047</td>\n",
       "      <td>0.022026</td>\n",
       "      <td>0.364947</td>\n",
       "      <td>0.355283</td>\n",
       "      <td>0.200632</td>\n",
       "      <td>-0.021946</td>\n",
       "      <td>0.071269</td>\n",
       "      <td>1.000000</td>\n",
       "      <td>-0.341699</td>\n",
       "      <td>0.148506</td>\n",
       "      <td>-0.496180</td>\n",
       "      <td>-0.174919</td>\n",
       "    </tr>\n",
       "    <tr>\n",
       "      <th>pH</th>\n",
       "      <td>-0.682978</td>\n",
       "      <td>0.234937</td>\n",
       "      <td>-0.541904</td>\n",
       "      <td>-0.085652</td>\n",
       "      <td>-0.265026</td>\n",
       "      <td>0.070377</td>\n",
       "      <td>-0.066495</td>\n",
       "      <td>-0.341699</td>\n",
       "      <td>1.000000</td>\n",
       "      <td>-0.196648</td>\n",
       "      <td>0.205633</td>\n",
       "      <td>-0.057731</td>\n",
       "    </tr>\n",
       "    <tr>\n",
       "      <th>sulphates</th>\n",
       "      <td>0.183006</td>\n",
       "      <td>-0.260987</td>\n",
       "      <td>0.312770</td>\n",
       "      <td>0.005527</td>\n",
       "      <td>0.371260</td>\n",
       "      <td>0.051658</td>\n",
       "      <td>0.042947</td>\n",
       "      <td>0.148506</td>\n",
       "      <td>-0.196648</td>\n",
       "      <td>1.000000</td>\n",
       "      <td>0.093595</td>\n",
       "      <td>0.251397</td>\n",
       "    </tr>\n",
       "    <tr>\n",
       "      <th>alcohol</th>\n",
       "      <td>-0.061668</td>\n",
       "      <td>-0.202288</td>\n",
       "      <td>0.109903</td>\n",
       "      <td>0.042075</td>\n",
       "      <td>-0.221141</td>\n",
       "      <td>-0.069408</td>\n",
       "      <td>-0.205654</td>\n",
       "      <td>-0.496180</td>\n",
       "      <td>0.205633</td>\n",
       "      <td>0.093595</td>\n",
       "      <td>1.000000</td>\n",
       "      <td>0.476166</td>\n",
       "    </tr>\n",
       "    <tr>\n",
       "      <th>quality</th>\n",
       "      <td>0.124052</td>\n",
       "      <td>-0.390558</td>\n",
       "      <td>0.226373</td>\n",
       "      <td>0.013732</td>\n",
       "      <td>-0.128907</td>\n",
       "      <td>-0.050656</td>\n",
       "      <td>-0.185100</td>\n",
       "      <td>-0.174919</td>\n",
       "      <td>-0.057731</td>\n",
       "      <td>0.251397</td>\n",
       "      <td>0.476166</td>\n",
       "      <td>1.000000</td>\n",
       "    </tr>\n",
       "  </tbody>\n",
       "</table>\n",
       "</div>"
      ],
      "text/plain": [
       "                      fixed acidity  volatile acidity  citric acid  \\\n",
       "fixed acidity              1.000000         -0.256131     0.671703   \n",
       "volatile acidity          -0.256131          1.000000    -0.552496   \n",
       "citric acid                0.671703         -0.552496     1.000000   \n",
       "residual sugar             0.114777          0.001918     0.143577   \n",
       "chlorides                  0.093705          0.061298     0.203823   \n",
       "free sulfur dioxide       -0.153794         -0.010504    -0.060978   \n",
       "total sulfur dioxide      -0.113181          0.076470     0.035533   \n",
       "density                    0.668047          0.022026     0.364947   \n",
       "pH                        -0.682978          0.234937    -0.541904   \n",
       "sulphates                  0.183006         -0.260987     0.312770   \n",
       "alcohol                   -0.061668         -0.202288     0.109903   \n",
       "quality                    0.124052         -0.390558     0.226373   \n",
       "\n",
       "                      residual sugar  chlorides  free sulfur dioxide  \\\n",
       "fixed acidity               0.114777   0.093705            -0.153794   \n",
       "volatile acidity            0.001918   0.061298            -0.010504   \n",
       "citric acid                 0.143577   0.203823            -0.060978   \n",
       "residual sugar              1.000000   0.055610             0.187049   \n",
       "chlorides                   0.055610   1.000000             0.005562   \n",
       "free sulfur dioxide         0.187049   0.005562             1.000000   \n",
       "total sulfur dioxide        0.203028   0.047400             0.667666   \n",
       "density                     0.355283   0.200632            -0.021946   \n",
       "pH                         -0.085652  -0.265026             0.070377   \n",
       "sulphates                   0.005527   0.371260             0.051658   \n",
       "alcohol                     0.042075  -0.221141            -0.069408   \n",
       "quality                     0.013732  -0.128907            -0.050656   \n",
       "\n",
       "                      total sulfur dioxide   density        pH  sulphates  \\\n",
       "fixed acidity                    -0.113181  0.668047 -0.682978   0.183006   \n",
       "volatile acidity                  0.076470  0.022026  0.234937  -0.260987   \n",
       "citric acid                       0.035533  0.364947 -0.541904   0.312770   \n",
       "residual sugar                    0.203028  0.355283 -0.085652   0.005527   \n",
       "chlorides                         0.047400  0.200632 -0.265026   0.371260   \n",
       "free sulfur dioxide               0.667666 -0.021946  0.070377   0.051658   \n",
       "total sulfur dioxide              1.000000  0.071269 -0.066495   0.042947   \n",
       "density                           0.071269  1.000000 -0.341699   0.148506   \n",
       "pH                               -0.066495 -0.341699  1.000000  -0.196648   \n",
       "sulphates                         0.042947  0.148506 -0.196648   1.000000   \n",
       "alcohol                          -0.205654 -0.496180  0.205633   0.093595   \n",
       "quality                          -0.185100 -0.174919 -0.057731   0.251397   \n",
       "\n",
       "                       alcohol   quality  \n",
       "fixed acidity        -0.061668  0.124052  \n",
       "volatile acidity     -0.202288 -0.390558  \n",
       "citric acid           0.109903  0.226373  \n",
       "residual sugar        0.042075  0.013732  \n",
       "chlorides            -0.221141 -0.128907  \n",
       "free sulfur dioxide  -0.069408 -0.050656  \n",
       "total sulfur dioxide -0.205654 -0.185100  \n",
       "density              -0.496180 -0.174919  \n",
       "pH                    0.205633 -0.057731  \n",
       "sulphates             0.093595  0.251397  \n",
       "alcohol               1.000000  0.476166  \n",
       "quality               0.476166  1.000000  "
      ]
     },
     "execution_count": 11,
     "metadata": {},
     "output_type": "execute_result"
    }
   ],
   "source": [
    "wine_data.corr()"
   ]
  },
  {
   "cell_type": "markdown",
   "id": "a142cb16",
   "metadata": {},
   "source": [
    "Here we want to look at the correlations betweem the quality and the features so lets take a look at the last column. <br>\n",
    "<b>Recall</b>: We do not want the values to be close to zero. We either want a strong positve value or a strong negative value. Here we can observe no features truly have a strong positive or negative relation to quality (maybe alcohol if 0.476 is considered high or volatile acidity if -0.391 is considered high). This may mean that we may need to look deeper into the data and look for further correlations.<br>"
   ]
  },
  {
   "cell_type": "markdown",
   "id": "05546ed7",
   "metadata": {},
   "source": [
    "### Data Preparation\n",
    "\n",
    "#### Explore the dataset further\n",
    "<br>\n",
    "<br>\n",
    "<li>Check for missing values and handle if any</li>\n",
    "<li>Check for outliers if any and handle them</li>\n",
    "<li>Implement Correlation heatmap</li>\n",
    "<li>Check the distribution of data using histograms</li>\n",
    "<li>Prepare the data for modeling by carrying out any steps that you think are necessary</li>"
   ]
  },
  {
   "cell_type": "markdown",
   "id": "95b375a0",
   "metadata": {},
   "source": [
    "#### Checking For Missing Data And Handling"
   ]
  },
  {
   "cell_type": "code",
   "execution_count": 13,
   "id": "7e925e46",
   "metadata": {},
   "outputs": [
    {
     "data": {
      "text/plain": [
       "fixed acidity           0\n",
       "volatile acidity        0\n",
       "citric acid             0\n",
       "residual sugar          0\n",
       "chlorides               0\n",
       "free sulfur dioxide     0\n",
       "total sulfur dioxide    0\n",
       "density                 0\n",
       "pH                      0\n",
       "sulphates               0\n",
       "alcohol                 0\n",
       "quality                 0\n",
       "dtype: int64"
      ]
     },
     "execution_count": 13,
     "metadata": {},
     "output_type": "execute_result"
    }
   ],
   "source": [
    "wine_data.isnull().sum()"
   ]
  },
  {
   "cell_type": "code",
   "execution_count": 14,
   "id": "2c900771",
   "metadata": {},
   "outputs": [
    {
     "data": {
      "text/plain": [
       "fixed acidity           0\n",
       "volatile acidity        0\n",
       "citric acid             0\n",
       "residual sugar          0\n",
       "chlorides               0\n",
       "free sulfur dioxide     0\n",
       "total sulfur dioxide    0\n",
       "density                 0\n",
       "pH                      0\n",
       "sulphates               0\n",
       "alcohol                 0\n",
       "quality                 0\n",
       "dtype: int64"
      ]
     },
     "execution_count": 14,
     "metadata": {},
     "output_type": "execute_result"
    }
   ],
   "source": [
    "wine_data.isna().sum()"
   ]
  },
  {
   "cell_type": "markdown",
   "id": "3042c97b",
   "metadata": {},
   "source": [
    "<b>Observation:</b> As you can observe, there is no null, N/A values that are within the data and no handling is nessesary to replace the null values."
   ]
  },
  {
   "cell_type": "markdown",
   "id": "4717b9d4",
   "metadata": {},
   "source": [
    "#### Checking For Outliers If Any And Handling"
   ]
  },
  {
   "cell_type": "code",
   "execution_count": 15,
   "id": "a8d7e6d9",
   "metadata": {},
   "outputs": [
    {
     "data": {
      "text/html": [
       "<div>\n",
       "<style scoped>\n",
       "    .dataframe tbody tr th:only-of-type {\n",
       "        vertical-align: middle;\n",
       "    }\n",
       "\n",
       "    .dataframe tbody tr th {\n",
       "        vertical-align: top;\n",
       "    }\n",
       "\n",
       "    .dataframe thead th {\n",
       "        text-align: right;\n",
       "    }\n",
       "</style>\n",
       "<table border=\"1\" class=\"dataframe\">\n",
       "  <thead>\n",
       "    <tr style=\"text-align: right;\">\n",
       "      <th></th>\n",
       "      <th>fixed acidity</th>\n",
       "      <th>volatile acidity</th>\n",
       "      <th>citric acid</th>\n",
       "      <th>residual sugar</th>\n",
       "      <th>chlorides</th>\n",
       "      <th>free sulfur dioxide</th>\n",
       "      <th>total sulfur dioxide</th>\n",
       "      <th>density</th>\n",
       "      <th>pH</th>\n",
       "      <th>sulphates</th>\n",
       "      <th>alcohol</th>\n",
       "      <th>quality</th>\n",
       "    </tr>\n",
       "  </thead>\n",
       "  <tbody>\n",
       "    <tr>\n",
       "      <th>count</th>\n",
       "      <td>1599.000000</td>\n",
       "      <td>1599.000000</td>\n",
       "      <td>1599.000000</td>\n",
       "      <td>1599.000000</td>\n",
       "      <td>1599.000000</td>\n",
       "      <td>1599.000000</td>\n",
       "      <td>1599.000000</td>\n",
       "      <td>1599.000000</td>\n",
       "      <td>1599.000000</td>\n",
       "      <td>1599.000000</td>\n",
       "      <td>1599.000000</td>\n",
       "      <td>1599.000000</td>\n",
       "    </tr>\n",
       "    <tr>\n",
       "      <th>mean</th>\n",
       "      <td>8.319637</td>\n",
       "      <td>0.527821</td>\n",
       "      <td>0.270976</td>\n",
       "      <td>2.538806</td>\n",
       "      <td>0.087467</td>\n",
       "      <td>15.874922</td>\n",
       "      <td>46.467792</td>\n",
       "      <td>0.996747</td>\n",
       "      <td>3.311113</td>\n",
       "      <td>0.658149</td>\n",
       "      <td>10.422983</td>\n",
       "      <td>5.636023</td>\n",
       "    </tr>\n",
       "    <tr>\n",
       "      <th>std</th>\n",
       "      <td>1.741096</td>\n",
       "      <td>0.179060</td>\n",
       "      <td>0.194801</td>\n",
       "      <td>1.409928</td>\n",
       "      <td>0.047065</td>\n",
       "      <td>10.460157</td>\n",
       "      <td>32.895324</td>\n",
       "      <td>0.001887</td>\n",
       "      <td>0.154386</td>\n",
       "      <td>0.169507</td>\n",
       "      <td>1.065668</td>\n",
       "      <td>0.807569</td>\n",
       "    </tr>\n",
       "    <tr>\n",
       "      <th>min</th>\n",
       "      <td>4.600000</td>\n",
       "      <td>0.120000</td>\n",
       "      <td>0.000000</td>\n",
       "      <td>0.900000</td>\n",
       "      <td>0.012000</td>\n",
       "      <td>1.000000</td>\n",
       "      <td>6.000000</td>\n",
       "      <td>0.990070</td>\n",
       "      <td>2.740000</td>\n",
       "      <td>0.330000</td>\n",
       "      <td>8.400000</td>\n",
       "      <td>3.000000</td>\n",
       "    </tr>\n",
       "    <tr>\n",
       "      <th>25%</th>\n",
       "      <td>7.100000</td>\n",
       "      <td>0.390000</td>\n",
       "      <td>0.090000</td>\n",
       "      <td>1.900000</td>\n",
       "      <td>0.070000</td>\n",
       "      <td>7.000000</td>\n",
       "      <td>22.000000</td>\n",
       "      <td>0.995600</td>\n",
       "      <td>3.210000</td>\n",
       "      <td>0.550000</td>\n",
       "      <td>9.500000</td>\n",
       "      <td>5.000000</td>\n",
       "    </tr>\n",
       "    <tr>\n",
       "      <th>50%</th>\n",
       "      <td>7.900000</td>\n",
       "      <td>0.520000</td>\n",
       "      <td>0.260000</td>\n",
       "      <td>2.200000</td>\n",
       "      <td>0.079000</td>\n",
       "      <td>14.000000</td>\n",
       "      <td>38.000000</td>\n",
       "      <td>0.996750</td>\n",
       "      <td>3.310000</td>\n",
       "      <td>0.620000</td>\n",
       "      <td>10.200000</td>\n",
       "      <td>6.000000</td>\n",
       "    </tr>\n",
       "    <tr>\n",
       "      <th>75%</th>\n",
       "      <td>9.200000</td>\n",
       "      <td>0.640000</td>\n",
       "      <td>0.420000</td>\n",
       "      <td>2.600000</td>\n",
       "      <td>0.090000</td>\n",
       "      <td>21.000000</td>\n",
       "      <td>62.000000</td>\n",
       "      <td>0.997835</td>\n",
       "      <td>3.400000</td>\n",
       "      <td>0.730000</td>\n",
       "      <td>11.100000</td>\n",
       "      <td>6.000000</td>\n",
       "    </tr>\n",
       "    <tr>\n",
       "      <th>max</th>\n",
       "      <td>15.900000</td>\n",
       "      <td>1.580000</td>\n",
       "      <td>1.000000</td>\n",
       "      <td>15.500000</td>\n",
       "      <td>0.611000</td>\n",
       "      <td>72.000000</td>\n",
       "      <td>289.000000</td>\n",
       "      <td>1.003690</td>\n",
       "      <td>4.010000</td>\n",
       "      <td>2.000000</td>\n",
       "      <td>14.900000</td>\n",
       "      <td>8.000000</td>\n",
       "    </tr>\n",
       "  </tbody>\n",
       "</table>\n",
       "</div>"
      ],
      "text/plain": [
       "       fixed acidity  volatile acidity  citric acid  residual sugar  \\\n",
       "count    1599.000000       1599.000000  1599.000000     1599.000000   \n",
       "mean        8.319637          0.527821     0.270976        2.538806   \n",
       "std         1.741096          0.179060     0.194801        1.409928   \n",
       "min         4.600000          0.120000     0.000000        0.900000   \n",
       "25%         7.100000          0.390000     0.090000        1.900000   \n",
       "50%         7.900000          0.520000     0.260000        2.200000   \n",
       "75%         9.200000          0.640000     0.420000        2.600000   \n",
       "max        15.900000          1.580000     1.000000       15.500000   \n",
       "\n",
       "         chlorides  free sulfur dioxide  total sulfur dioxide      density  \\\n",
       "count  1599.000000          1599.000000           1599.000000  1599.000000   \n",
       "mean      0.087467            15.874922             46.467792     0.996747   \n",
       "std       0.047065            10.460157             32.895324     0.001887   \n",
       "min       0.012000             1.000000              6.000000     0.990070   \n",
       "25%       0.070000             7.000000             22.000000     0.995600   \n",
       "50%       0.079000            14.000000             38.000000     0.996750   \n",
       "75%       0.090000            21.000000             62.000000     0.997835   \n",
       "max       0.611000            72.000000            289.000000     1.003690   \n",
       "\n",
       "                pH    sulphates      alcohol      quality  \n",
       "count  1599.000000  1599.000000  1599.000000  1599.000000  \n",
       "mean      3.311113     0.658149    10.422983     5.636023  \n",
       "std       0.154386     0.169507     1.065668     0.807569  \n",
       "min       2.740000     0.330000     8.400000     3.000000  \n",
       "25%       3.210000     0.550000     9.500000     5.000000  \n",
       "50%       3.310000     0.620000    10.200000     6.000000  \n",
       "75%       3.400000     0.730000    11.100000     6.000000  \n",
       "max       4.010000     2.000000    14.900000     8.000000  "
      ]
     },
     "execution_count": 15,
     "metadata": {},
     "output_type": "execute_result"
    }
   ],
   "source": [
    "wine_data.describe()"
   ]
  },
  {
   "cell_type": "markdown",
   "id": "854291a8",
   "metadata": {},
   "source": [
    "#### Find Cap Outliers If Any\n",
    "Want to check values above the 95th and 99th percentiles"
   ]
  },
  {
   "cell_type": "code",
   "execution_count": 17,
   "id": "23bd9d69",
   "metadata": {},
   "outputs": [],
   "source": [
    "def detect_outlier_cap(feature):\n",
    "    outliers = []\n",
    "    data = wine_data[feature]\n",
    "    mean = np.mean(data)\n",
    "    std =np.std(data)\n",
    "    \n",
    "    \n",
    "    for y in data:\n",
    "        z_score= (y - mean)/std \n",
    "        if np.abs(z_score) > 3:\n",
    "            outliers.append(y)\n",
    "    print('\\nOutlier caps for {}:'.format(feature))\n",
    "    print('  --95p: {:.1f} / {} values exceed that'.format(data.quantile(.95),\n",
    "                                                             len([i for i in data\n",
    "                                                                  if i > data.quantile(.95)])))\n",
    "    print('  --3sd: {:.1f} / {} values exceed that'.format(mean + 3*(std), len(outliers)))\n",
    "    print('  --99p: {:.1f} / {} values exceed that'.format(data.quantile(.99),\n",
    "                                                           len([i for i in data\n",
    "                                                                if i > data.quantile(.99)])))"
   ]
  },
  {
   "cell_type": "code",
   "execution_count": 18,
   "id": "383d6ba0",
   "metadata": {},
   "outputs": [
    {
     "name": "stdout",
     "output_type": "stream",
     "text": [
      "\n",
      "Outlier caps for fixed acidity:\n",
      "  --95p: 11.8 / 78 values exceed that\n",
      "  --3sd: 13.5 / 12 values exceed that\n",
      "  --99p: 13.3 / 14 values exceed that\n",
      "\n",
      "Outlier caps for volatile acidity:\n",
      "  --95p: 0.8 / 76 values exceed that\n",
      "  --3sd: 1.1 / 10 values exceed that\n",
      "  --99p: 1.0 / 15 values exceed that\n",
      "\n",
      "Outlier caps for citric acid:\n",
      "  --95p: 0.6 / 78 values exceed that\n",
      "  --3sd: 0.9 / 1 values exceed that\n",
      "  --99p: 0.7 / 16 values exceed that\n",
      "\n",
      "Outlier caps for residual sugar:\n",
      "  --95p: 5.1 / 79 values exceed that\n",
      "  --3sd: 6.8 / 30 values exceed that\n",
      "  --99p: 8.3 / 16 values exceed that\n",
      "\n",
      "Outlier caps for chlorides:\n",
      "  --95p: 0.1 / 80 values exceed that\n",
      "  --3sd: 0.2 / 31 values exceed that\n",
      "  --99p: 0.4 / 16 values exceed that\n",
      "\n",
      "Outlier caps for free sulfur dioxide:\n",
      "  --95p: 35.0 / 77 values exceed that\n",
      "  --3sd: 47.2 / 22 values exceed that\n",
      "  --99p: 50.0 / 16 values exceed that\n",
      "\n",
      "Outlier caps for total sulfur dioxide:\n",
      "  --95p: 112.1 / 80 values exceed that\n",
      "  --3sd: 145.1 / 15 values exceed that\n",
      "  --99p: 145.0 / 15 values exceed that\n",
      "\n",
      "Outlier caps for density:\n",
      "  --95p: 1.0 / 71 values exceed that\n",
      "  --3sd: 1.0 / 18 values exceed that\n",
      "  --99p: 1.0 / 16 values exceed that\n",
      "\n",
      "Outlier caps for pH:\n",
      "  --95p: 3.6 / 73 values exceed that\n",
      "  --3sd: 3.8 / 8 values exceed that\n",
      "  --99p: 3.7 / 16 values exceed that\n",
      "\n",
      "Outlier caps for sulphates:\n",
      "  --95p: 0.9 / 79 values exceed that\n",
      "  --3sd: 1.2 / 27 values exceed that\n",
      "  --99p: 1.3 / 16 values exceed that\n",
      "\n",
      "Outlier caps for alcohol:\n",
      "  --95p: 12.5 / 70 values exceed that\n",
      "  --3sd: 13.6 / 8 values exceed that\n",
      "  --99p: 13.4 / 14 values exceed that\n"
     ]
    }
   ],
   "source": [
    "# Determine what the upperbound should be for continuous features\n",
    "for feat in ['fixed acidity', 'volatile acidity', 'citric acid', 'residual sugar', 'chlorides', 'free sulfur dioxide', 'total sulfur dioxide', 'density', 'pH', 'sulphates', 'alcohol']:\n",
    "    detect_outlier_cap(feat)"
   ]
  },
  {
   "cell_type": "markdown",
   "id": "b8df2aa6",
   "metadata": {},
   "source": [
    "#### Find Floor Outliers If Any\n",
    "Find ouliers in the 5th and 1th percentile"
   ]
  },
  {
   "cell_type": "code",
   "execution_count": 25,
   "id": "d1bee09c",
   "metadata": {},
   "outputs": [],
   "source": [
    "def detect_outlier_floor(feature):\n",
    "    outliers = []\n",
    "    data = wine_data[feature]\n",
    "    mean = np.mean(data)\n",
    "    std =np.std(data)\n",
    "    \n",
    "    \n",
    "    for y in data:\n",
    "        z_score= (y - mean)/std \n",
    "        if np.abs(z_score) < -3:\n",
    "            outliers.append(y)\n",
    "    print('\\nOutlier caps for {}:'.format(feature))\n",
    "    print('  --95p: {:.1f} / {} values exceed that'.format(data.quantile(.05),\n",
    "                                                             len([i for i in data\n",
    "                                                                  if i < data.quantile(.05)])))\n",
    "    print('  --3sd: {:.1f} / {} values exceed that'.format(mean + 3*(std), len(outliers)))\n",
    "    print('  --99p: {:.1f} / {} values exceed that'.format(data.quantile(.01),\n",
    "                                                           len([i for i in data\n",
    "                                                                if i < data.quantile(.01)])))"
   ]
  },
  {
   "cell_type": "code",
   "execution_count": 21,
   "id": "287c0b10",
   "metadata": {},
   "outputs": [
    {
     "name": "stdout",
     "output_type": "stream",
     "text": [
      "\n",
      "Outlier caps for fixed acidity:\n",
      "  --95p: 6.1 / 71 values exceed that\n",
      "  --3sd: 13.5 / 0 values exceed that\n",
      "  --99p: 5.2 / 13 values exceed that\n",
      "\n",
      "Outlier caps for volatile acidity:\n",
      "  --95p: 0.3 / 73 values exceed that\n",
      "  --3sd: 1.1 / 0 values exceed that\n",
      "  --99p: 0.2 / 15 values exceed that\n",
      "\n",
      "Outlier caps for citric acid:\n",
      "  --95p: 0.0 / 0 values exceed that\n",
      "  --3sd: 0.9 / 0 values exceed that\n",
      "  --99p: 0.0 / 0 values exceed that\n",
      "\n",
      "Outlier caps for residual sugar:\n",
      "  --95p: 1.6 / 80 values exceed that\n",
      "  --3sd: 6.8 / 0 values exceed that\n",
      "  --99p: 1.4 / 15 values exceed that\n",
      "\n",
      "Outlier caps for chlorides:\n",
      "  --95p: 0.1 / 78 values exceed that\n",
      "  --3sd: 0.2 / 0 values exceed that\n",
      "  --99p: 0.0 / 16 values exceed that\n",
      "\n",
      "Outlier caps for free sulfur dioxide:\n",
      "  --95p: 4.0 / 53 values exceed that\n",
      "  --3sd: 47.2 / 0 values exceed that\n",
      "  --99p: 3.0 / 4 values exceed that\n",
      "\n",
      "Outlier caps for total sulfur dioxide:\n",
      "  --95p: 11.0 / 62 values exceed that\n",
      "  --3sd: 145.1 / 0 values exceed that\n",
      "  --99p: 8.0 / 7 values exceed that\n",
      "\n",
      "Outlier caps for density:\n",
      "  --95p: 1.0 / 80 values exceed that\n",
      "  --3sd: 1.0 / 0 values exceed that\n",
      "  --99p: 1.0 / 15 values exceed that\n",
      "\n",
      "Outlier caps for pH:\n",
      "  --95p: 3.1 / 72 values exceed that\n",
      "  --3sd: 3.8 / 0 values exceed that\n",
      "  --99p: 2.9 / 14 values exceed that\n",
      "\n",
      "Outlier caps for sulphates:\n",
      "  --95p: 0.5 / 72 values exceed that\n",
      "  --3sd: 1.2 / 0 values exceed that\n",
      "  --99p: 0.4 / 13 values exceed that\n",
      "\n",
      "Outlier caps for alcohol:\n",
      "  --95p: 9.2 / 61 values exceed that\n",
      "  --3sd: 13.6 / 0 values exceed that\n",
      "  --99p: 9.0 / 7 values exceed that\n"
     ]
    }
   ],
   "source": [
    "for feat in ['fixed acidity', 'volatile acidity', 'citric acid', 'residual sugar', 'chlorides', 'free sulfur dioxide', 'total sulfur dioxide', 'density', 'pH', 'sulphates', 'alcohol']:\n",
    "    detect_outlier_floor(feat)"
   ]
  },
  {
   "cell_type": "markdown",
   "id": "2013dc4b",
   "metadata": {},
   "source": [
    "<b>Observation:</b> It appears that the dataset does not need to be clipped. For the values found in the 99th percentile and 1th percentile, the values ranged from 7-16 which is around 1% of the data (1599 rows). This is reasonable and therefore will be considered within the dataset. Also for the 5th and 95th percentile, it appears that is contains 60-80 values which is again reasonable as it is around 5% of the data. "
   ]
  },
  {
   "cell_type": "markdown",
   "id": "dee38eaa",
   "metadata": {},
   "source": [
    "#### Correlation heatmap"
   ]
  },
  {
   "cell_type": "code",
   "execution_count": 24,
   "id": "14ebb6eb",
   "metadata": {},
   "outputs": [
    {
     "data": {
      "text/plain": [
       "<AxesSubplot:>"
      ]
     },
     "execution_count": 24,
     "metadata": {},
     "output_type": "execute_result"
    },
    {
     "data": {
      "image/png": "[encoded data removed]",
      "text/plain": [
       "<Figure size 1440x720 with 2 Axes>"
      ]
     },
     "metadata": {
      "needs_background": "light"
     },
     "output_type": "display_data"
    }
   ],
   "source": [
    "corrMatt = wine_data[['fixed acidity', 'volatile acidity', 'citric acid', 'residual sugar', 'chlorides', 'free sulfur dioxide', 'total sulfur dioxide', 'density', 'pH', 'sulphates', 'alcohol','quality']].corr()\n",
    "mask = np.array(corrMatt)\n",
    "mask[np.tril_indices_from(mask)] = False\n",
    "fig,ax= plt.subplots()\n",
    "fig.set_size_inches(20,10)\n",
    "sns.heatmap(corrMatt, mask=mask,vmax=.8, square=True,annot=True)"
   ]
  },
  {
   "cell_type": "markdown",
   "id": "4bc49481",
   "metadata": {},
   "source": [
    "<b>Observation:</b> This is the same as the correlation done earlier but with colours indicating the correlations amoungst each other.<br>\n",
    "<br>\n",
    "<b>Recall</b>: We do not want the values to be close to zero. We either want a strong positve value or a strong negative value. Here we can observe no features truly have a strong positive or negative relation to quality (maybe alcohol if 0.476 is considered high or volatile acidity if -0.391 is considered high). This may mean that we may need to look deeper into the data and look for further correlations.<br>"
   ]
  },
  {
   "cell_type": "markdown",
   "id": "ee7694a1",
   "metadata": {},
   "source": [
    "#### The Distribution Of Data Using Histograms/KDE"
   ]
  },
  {
   "cell_type": "code",
   "execution_count": 43,
   "id": "dd0f8e44",
   "metadata": {},
   "outputs": [
    {
     "data": {
      "image/png": "[encoded data removed]",
      "text/plain": [
       "<Figure size 864x864 with 1 Axes>"
      ]
     },
     "metadata": {
      "needs_background": "light"
     },
     "output_type": "display_data"
    }
   ],
   "source": [
    "pd.DataFrame(wine_data).plot(kind='hist',figsize = (12,12), bins=200);"
   ]
  },
  {
   "cell_type": "code",
   "execution_count": 47,
   "id": "a162ee9f",
   "metadata": {},
   "outputs": [
    {
     "data": {
      "image/png": "[encoded data removed]",
      "text/plain": [
       "<Figure size 432x288 with 1 Axes>"
      ]
     },
     "metadata": {
      "needs_background": "light"
     },
     "output_type": "display_data"
    }
   ],
   "source": [
    "pd.DataFrame(wine_data).plot(kind='kde');"
   ]
  },
  {
   "cell_type": "markdown",
   "id": "9ce684a0",
   "metadata": {},
   "source": [
    "<b>Observation:</b> It is quite difficult to observe the histogram at a detailed view because the transparency is between the distributions is opaque. ASIDE: when made transparent, the graph became harder to read. Although we can see the peaks of the data is squeezed within 0-50. "
   ]
  },
  {
   "cell_type": "markdown",
   "id": "28fe1ec9",
   "metadata": {},
   "source": [
    "### Scaling The Data\n",
    "This will be done to prepare the data for modelling"
   ]
  },
  {
   "cell_type": "markdown",
   "id": "63651abc",
   "metadata": {},
   "source": [
    "Here we will use scalers from Scikei-learn to make the data better regularized to allow the models to perform the best."
   ]
  },
  {
   "cell_type": "markdown",
   "id": "eabb8e2d",
   "metadata": {},
   "source": [
    "Lets view the data without any scaling"
   ]
  },
  {
   "cell_type": "code",
   "execution_count": 33,
   "id": "d863926b",
   "metadata": {},
   "outputs": [
    {
     "data": {
      "image/png": "[encoded data removed]",
      "text/plain": [
       "<Figure size 432x288 with 1 Axes>"
      ]
     },
     "metadata": {
      "needs_background": "light"
     },
     "output_type": "display_data"
    }
   ],
   "source": [
    "wine_data.plot(style='.');"
   ]
  },
  {
   "cell_type": "markdown",
   "id": "92da00bf",
   "metadata": {},
   "source": [
    "The data is somewhat readable, clear patterns exist with sulphates, volatile acidity and alcohol."
   ]
  },
  {
   "cell_type": "markdown",
   "id": "5e749a0e",
   "metadata": {},
   "source": [
    "<b>Recall:</b> We already checked for outliers and saw that the data was stable. In this case the scaler used will not be sensitive to unknown outliers. "
   ]
  },
  {
   "cell_type": "markdown",
   "id": "d9b93277",
   "metadata": {},
   "source": [
    "We need to check of the data follows a normal/Gaussian distribution before we proceed."
   ]
  },
  {
   "cell_type": "markdown",
   "id": "4e5c73fd",
   "metadata": {},
   "source": [
    "#### StandardScaler\n",
    "Here we will implement the StandardScaler from sklearn"
   ]
  },
  {
   "cell_type": "code",
   "execution_count": 34,
   "id": "6752751c",
   "metadata": {},
   "outputs": [
    {
     "data": {
      "text/plain": [
       "array([[-0.52835961,  0.96187667, -1.39147228, -0.45321841, -0.24370669,\n",
       "        -0.46619252, -0.37913269,  0.55827446,  1.28864292, -0.57920652,\n",
       "        -0.96024611, -0.78782264],\n",
       "       [-0.29854743,  1.96744245, -1.39147228,  0.04341614,  0.2238752 ,\n",
       "         0.87263823,  0.62436323,  0.02826077, -0.7199333 ,  0.1289504 ,\n",
       "        -0.58477711, -0.78782264],\n",
       "       [-0.29854743,  1.29706527, -1.18607043, -0.16942723,  0.09635286,\n",
       "        -0.08366945,  0.22904665,  0.13426351, -0.33117661, -0.04808883,\n",
       "        -0.58477711, -0.78782264],\n",
       "       [ 1.65485608, -1.38444349,  1.4841536 , -0.45321841, -0.26496041,\n",
       "         0.10759209,  0.41150046,  0.6642772 , -0.97910442, -0.46118037,\n",
       "        -0.58477711,  0.45084835],\n",
       "       [-0.52835961,  0.96187667, -1.39147228, -0.45321841, -0.24370669,\n",
       "        -0.46619252, -0.37913269,  0.55827446,  1.28864292, -0.57920652,\n",
       "        -0.96024611, -0.78782264]])"
      ]
     },
     "execution_count": 34,
     "metadata": {},
     "output_type": "execute_result"
    }
   ],
   "source": [
    "from sklearn.preprocessing import StandardScaler\n",
    "scaled1 = StandardScaler().fit_transform(wine_data)\n",
    "scaled1[:5]"
   ]
  },
  {
   "cell_type": "markdown",
   "id": "8c96ab4a",
   "metadata": {},
   "source": [
    "#### KDE"
   ]
  },
  {
   "cell_type": "code",
   "execution_count": 36,
   "id": "8566c18c",
   "metadata": {},
   "outputs": [
    {
     "data": {
      "image/png": "[encoded data removed]",
      "text/plain": [
       "<Figure size 864x864 with 1 Axes>"
      ]
     },
     "metadata": {
      "needs_background": "light"
     },
     "output_type": "display_data"
    }
   ],
   "source": [
    "pd.DataFrame(scaled1).plot(kind = 'kde',figsize=(12,12));"
   ]
  },
  {
   "cell_type": "markdown",
   "id": "53b90bbb",
   "metadata": {},
   "source": [
    "#### Histogram"
   ]
  },
  {
   "cell_type": "code",
   "execution_count": 44,
   "id": "2f42f306",
   "metadata": {},
   "outputs": [
    {
     "data": {
      "image/png": "[encoded data removed]",
      "text/plain": [
       "<Figure size 864x864 with 1 Axes>"
      ]
     },
     "metadata": {
      "needs_background": "light"
     },
     "output_type": "display_data"
    }
   ],
   "source": [
    "pd.DataFrame(scaled1).plot(kind='hist', figsize=(12,12), bins=200);"
   ]
  },
  {
   "cell_type": "markdown",
   "id": "b925ad13",
   "metadata": {},
   "source": [
    "#### MinMaxScaler"
   ]
  },
  {
   "cell_type": "code",
   "execution_count": 38,
   "id": "054c5b00",
   "metadata": {},
   "outputs": [
    {
     "data": {
      "text/plain": [
       "array([[0.24778761, 0.39726027, 0.        , 0.06849315, 0.10684474,\n",
       "        0.14084507, 0.09893993, 0.56754772, 0.60629921, 0.13772455,\n",
       "        0.15384615, 0.4       ],\n",
       "       [0.28318584, 0.52054795, 0.        , 0.11643836, 0.14357262,\n",
       "        0.33802817, 0.2155477 , 0.49412628, 0.36220472, 0.20958084,\n",
       "        0.21538462, 0.4       ],\n",
       "       [0.28318584, 0.43835616, 0.04      , 0.09589041, 0.13355593,\n",
       "        0.1971831 , 0.16961131, 0.50881057, 0.40944882, 0.19161677,\n",
       "        0.21538462, 0.4       ],\n",
       "       [0.5840708 , 0.10958904, 0.56      , 0.06849315, 0.10517529,\n",
       "        0.22535211, 0.19081272, 0.58223201, 0.33070866, 0.1497006 ,\n",
       "        0.21538462, 0.6       ],\n",
       "       [0.24778761, 0.39726027, 0.        , 0.06849315, 0.10684474,\n",
       "        0.14084507, 0.09893993, 0.56754772, 0.60629921, 0.13772455,\n",
       "        0.15384615, 0.4       ]])"
      ]
     },
     "execution_count": 38,
     "metadata": {},
     "output_type": "execute_result"
    }
   ],
   "source": [
    "from sklearn.preprocessing import MinMaxScaler\n",
    "scaled2 = MinMaxScaler().fit_transform(wine_data)\n",
    "scaled2[:5]"
   ]
  },
  {
   "cell_type": "markdown",
   "id": "425d8823",
   "metadata": {},
   "source": [
    "#### KDE"
   ]
  },
  {
   "cell_type": "code",
   "execution_count": 39,
   "id": "e15819b2",
   "metadata": {},
   "outputs": [
    {
     "data": {
      "image/png": "[encoded data removed]",
      "text/plain": [
       "<Figure size 864x864 with 1 Axes>"
      ]
     },
     "metadata": {
      "needs_background": "light"
     },
     "output_type": "display_data"
    }
   ],
   "source": [
    "pd.DataFrame(scaled2).plot(kind = 'kde',figsize=(12,12));"
   ]
  },
  {
   "cell_type": "markdown",
   "id": "40dcd9e2",
   "metadata": {},
   "source": [
    "#### Histogram"
   ]
  },
  {
   "cell_type": "code",
   "execution_count": 40,
   "id": "f0e9c642",
   "metadata": {},
   "outputs": [
    {
     "data": {
      "image/png": "[encoded data removed]",
      "text/plain": [
       "<Figure size 864x864 with 1 Axes>"
      ]
     },
     "metadata": {
      "needs_background": "light"
     },
     "output_type": "display_data"
    }
   ],
   "source": [
    "pd.DataFrame(scaled2).plot(kind='hist', figsize=(12,12), bins=200);"
   ]
  },
  {
   "cell_type": "markdown",
   "id": "234325fe",
   "metadata": {},
   "source": [
    "REVIEW: MinMaxScaler is more of a normalizer whereas the StandardScaler is used for standardization. As we work through the modelling, we will see which scaler is best fit if needed. Recall, there are going to be different types of models, regression models and a neural network."
   ]
  },
  {
   "cell_type": "markdown",
   "id": "74897a48",
   "metadata": {},
   "source": [
    "It appears that the data does follow a normal distribution. "
   ]
  },
  {
   "cell_type": "markdown",
   "id": "e59d8dd8",
   "metadata": {},
   "source": [
    "### Modeling\n",
    "\n",
    "*TODO*\n",
    "<li>Implement Multivariable Linear Regression using any 2 Regression algorithms of your choice</li>\n",
    "<li>Implement a Neural Network using Tensorflow and Keras to classify wine quality</li>"
   ]
  },
  {
   "cell_type": "markdown",
   "id": "a48eddff",
   "metadata": {},
   "source": [
    "#### Multivariable Linear Regression using any 2 Regression algorithms"
   ]
  },
  {
   "cell_type": "markdown",
   "id": "e892be02",
   "metadata": {},
   "source": [
    "##### Algorithm 1: Multiple Regression Using linear_model From sklearn\n",
    "Code snippets taken from https://towardsdatascience.com/multiple-regression-as-a-machine-learning-algorithm-a98a6b9f307b"
   ]
  },
  {
   "cell_type": "code",
   "execution_count": 184,
   "id": "6e446951",
   "metadata": {
    "scrolled": true
   },
   "outputs": [],
   "source": [
    "from sklearn import linear_model\n",
    "from sklearn.model_selection import train_test_split\n",
    "from sklearn.metrics import r2_score"
   ]
  },
  {
   "cell_type": "code",
   "execution_count": 185,
   "id": "b975340c",
   "metadata": {},
   "outputs": [],
   "source": [
    "# select data subset\n",
    "df = wine_data[['fixed acidity', 'volatile acidity', 'citric acid', 'residual sugar', 'chlorides', 'free sulfur dioxide', 'total sulfur dioxide', 'density', 'pH', 'sulphates', 'alcohol','quality']]# select data for modeling\n",
    "X = df[['fixed acidity', 'volatile acidity', 'citric acid', 'residual sugar', 'chlorides', 'free sulfur dioxide', 'total sulfur dioxide', 'density', 'pH', 'sulphates', 'alcohol']]\n",
    "y = df['quality']"
   ]
  },
  {
   "cell_type": "code",
   "execution_count": 186,
   "id": "3d0087b8",
   "metadata": {},
   "outputs": [],
   "source": [
    "# split data into train and test\n",
    "# we are using a 70:30 split for the regression model\n",
    "X_train, X_test, y_train, y_test = train_test_split(X, y, test_size = 0.3, random_state = 42)"
   ]
  },
  {
   "cell_type": "code",
   "execution_count": 187,
   "id": "4d4e4b7e",
   "metadata": {
    "scrolled": true
   },
   "outputs": [
    {
     "data": {
      "text/html": [
       "<div>\n",
       "<style scoped>\n",
       "    .dataframe tbody tr th:only-of-type {\n",
       "        vertical-align: middle;\n",
       "    }\n",
       "\n",
       "    .dataframe tbody tr th {\n",
       "        vertical-align: top;\n",
       "    }\n",
       "\n",
       "    .dataframe thead th {\n",
       "        text-align: right;\n",
       "    }\n",
       "</style>\n",
       "<table border=\"1\" class=\"dataframe\">\n",
       "  <thead>\n",
       "    <tr style=\"text-align: right;\">\n",
       "      <th></th>\n",
       "      <th>fixed acidity</th>\n",
       "      <th>volatile acidity</th>\n",
       "      <th>citric acid</th>\n",
       "      <th>residual sugar</th>\n",
       "      <th>chlorides</th>\n",
       "      <th>free sulfur dioxide</th>\n",
       "      <th>total sulfur dioxide</th>\n",
       "      <th>density</th>\n",
       "      <th>pH</th>\n",
       "      <th>sulphates</th>\n",
       "      <th>alcohol</th>\n",
       "    </tr>\n",
       "  </thead>\n",
       "  <tbody>\n",
       "    <tr>\n",
       "      <th>803</th>\n",
       "      <td>7.7</td>\n",
       "      <td>0.56</td>\n",
       "      <td>0.08</td>\n",
       "      <td>2.50</td>\n",
       "      <td>0.114</td>\n",
       "      <td>14.0</td>\n",
       "      <td>46.0</td>\n",
       "      <td>0.99710</td>\n",
       "      <td>3.24</td>\n",
       "      <td>0.66</td>\n",
       "      <td>9.6</td>\n",
       "    </tr>\n",
       "    <tr>\n",
       "      <th>124</th>\n",
       "      <td>7.8</td>\n",
       "      <td>0.50</td>\n",
       "      <td>0.17</td>\n",
       "      <td>1.60</td>\n",
       "      <td>0.082</td>\n",
       "      <td>21.0</td>\n",
       "      <td>102.0</td>\n",
       "      <td>0.99600</td>\n",
       "      <td>3.39</td>\n",
       "      <td>0.48</td>\n",
       "      <td>9.5</td>\n",
       "    </tr>\n",
       "    <tr>\n",
       "      <th>350</th>\n",
       "      <td>10.7</td>\n",
       "      <td>0.67</td>\n",
       "      <td>0.22</td>\n",
       "      <td>2.70</td>\n",
       "      <td>0.107</td>\n",
       "      <td>17.0</td>\n",
       "      <td>34.0</td>\n",
       "      <td>1.00040</td>\n",
       "      <td>3.28</td>\n",
       "      <td>0.98</td>\n",
       "      <td>9.9</td>\n",
       "    </tr>\n",
       "    <tr>\n",
       "      <th>682</th>\n",
       "      <td>8.5</td>\n",
       "      <td>0.46</td>\n",
       "      <td>0.31</td>\n",
       "      <td>2.25</td>\n",
       "      <td>0.078</td>\n",
       "      <td>32.0</td>\n",
       "      <td>58.0</td>\n",
       "      <td>0.99800</td>\n",
       "      <td>3.33</td>\n",
       "      <td>0.54</td>\n",
       "      <td>9.8</td>\n",
       "    </tr>\n",
       "    <tr>\n",
       "      <th>1326</th>\n",
       "      <td>6.7</td>\n",
       "      <td>0.46</td>\n",
       "      <td>0.24</td>\n",
       "      <td>1.70</td>\n",
       "      <td>0.077</td>\n",
       "      <td>18.0</td>\n",
       "      <td>34.0</td>\n",
       "      <td>0.99480</td>\n",
       "      <td>3.39</td>\n",
       "      <td>0.60</td>\n",
       "      <td>10.6</td>\n",
       "    </tr>\n",
       "    <tr>\n",
       "      <th>...</th>\n",
       "      <td>...</td>\n",
       "      <td>...</td>\n",
       "      <td>...</td>\n",
       "      <td>...</td>\n",
       "      <td>...</td>\n",
       "      <td>...</td>\n",
       "      <td>...</td>\n",
       "      <td>...</td>\n",
       "      <td>...</td>\n",
       "      <td>...</td>\n",
       "      <td>...</td>\n",
       "    </tr>\n",
       "    <tr>\n",
       "      <th>1468</th>\n",
       "      <td>7.3</td>\n",
       "      <td>0.48</td>\n",
       "      <td>0.32</td>\n",
       "      <td>2.10</td>\n",
       "      <td>0.062</td>\n",
       "      <td>31.0</td>\n",
       "      <td>54.0</td>\n",
       "      <td>0.99728</td>\n",
       "      <td>3.30</td>\n",
       "      <td>0.65</td>\n",
       "      <td>10.0</td>\n",
       "    </tr>\n",
       "    <tr>\n",
       "      <th>495</th>\n",
       "      <td>10.7</td>\n",
       "      <td>0.35</td>\n",
       "      <td>0.53</td>\n",
       "      <td>2.60</td>\n",
       "      <td>0.070</td>\n",
       "      <td>5.0</td>\n",
       "      <td>16.0</td>\n",
       "      <td>0.99720</td>\n",
       "      <td>3.15</td>\n",
       "      <td>0.65</td>\n",
       "      <td>11.0</td>\n",
       "    </tr>\n",
       "    <tr>\n",
       "      <th>1325</th>\n",
       "      <td>6.7</td>\n",
       "      <td>0.46</td>\n",
       "      <td>0.24</td>\n",
       "      <td>1.70</td>\n",
       "      <td>0.077</td>\n",
       "      <td>18.0</td>\n",
       "      <td>34.0</td>\n",
       "      <td>0.99480</td>\n",
       "      <td>3.39</td>\n",
       "      <td>0.60</td>\n",
       "      <td>10.6</td>\n",
       "    </tr>\n",
       "    <tr>\n",
       "      <th>514</th>\n",
       "      <td>10.5</td>\n",
       "      <td>0.51</td>\n",
       "      <td>0.64</td>\n",
       "      <td>2.40</td>\n",
       "      <td>0.107</td>\n",
       "      <td>6.0</td>\n",
       "      <td>15.0</td>\n",
       "      <td>0.99730</td>\n",
       "      <td>3.09</td>\n",
       "      <td>0.66</td>\n",
       "      <td>11.8</td>\n",
       "    </tr>\n",
       "    <tr>\n",
       "      <th>576</th>\n",
       "      <td>9.9</td>\n",
       "      <td>0.50</td>\n",
       "      <td>0.24</td>\n",
       "      <td>2.30</td>\n",
       "      <td>0.103</td>\n",
       "      <td>6.0</td>\n",
       "      <td>14.0</td>\n",
       "      <td>0.99780</td>\n",
       "      <td>3.34</td>\n",
       "      <td>0.52</td>\n",
       "      <td>10.0</td>\n",
       "    </tr>\n",
       "  </tbody>\n",
       "</table>\n",
       "<p>480 rows × 11 columns</p>\n",
       "</div>"
      ],
      "text/plain": [
       "      fixed acidity  volatile acidity  citric acid  residual sugar  chlorides  \\\n",
       "803             7.7              0.56         0.08            2.50      0.114   \n",
       "124             7.8              0.50         0.17            1.60      0.082   \n",
       "350            10.7              0.67         0.22            2.70      0.107   \n",
       "682             8.5              0.46         0.31            2.25      0.078   \n",
       "1326            6.7              0.46         0.24            1.70      0.077   \n",
       "...             ...               ...          ...             ...        ...   \n",
       "1468            7.3              0.48         0.32            2.10      0.062   \n",
       "495            10.7              0.35         0.53            2.60      0.070   \n",
       "1325            6.7              0.46         0.24            1.70      0.077   \n",
       "514            10.5              0.51         0.64            2.40      0.107   \n",
       "576             9.9              0.50         0.24            2.30      0.103   \n",
       "\n",
       "      free sulfur dioxide  total sulfur dioxide  density    pH  sulphates  \\\n",
       "803                  14.0                  46.0  0.99710  3.24       0.66   \n",
       "124                  21.0                 102.0  0.99600  3.39       0.48   \n",
       "350                  17.0                  34.0  1.00040  3.28       0.98   \n",
       "682                  32.0                  58.0  0.99800  3.33       0.54   \n",
       "1326                 18.0                  34.0  0.99480  3.39       0.60   \n",
       "...                   ...                   ...      ...   ...        ...   \n",
       "1468                 31.0                  54.0  0.99728  3.30       0.65   \n",
       "495                   5.0                  16.0  0.99720  3.15       0.65   \n",
       "1325                 18.0                  34.0  0.99480  3.39       0.60   \n",
       "514                   6.0                  15.0  0.99730  3.09       0.66   \n",
       "576                   6.0                  14.0  0.99780  3.34       0.52   \n",
       "\n",
       "      alcohol  \n",
       "803       9.6  \n",
       "124       9.5  \n",
       "350       9.9  \n",
       "682       9.8  \n",
       "1326     10.6  \n",
       "...       ...  \n",
       "1468     10.0  \n",
       "495      11.0  \n",
       "1325     10.6  \n",
       "514      11.8  \n",
       "576      10.0  \n",
       "\n",
       "[480 rows x 11 columns]"
      ]
     },
     "execution_count": 187,
     "metadata": {},
     "output_type": "execute_result"
    }
   ],
   "source": [
    "X_test"
   ]
  },
  {
   "cell_type": "code",
   "execution_count": 188,
   "id": "1db2c340",
   "metadata": {},
   "outputs": [],
   "source": [
    "# instantiate \n",
    "modelLR = linear_model.LinearRegression()\n",
    "# fit\n",
    "modelLR.fit(X_train, y_train)\n",
    "# predict\n",
    "y_predLR = model.predict(X_test)"
   ]
  },
  {
   "cell_type": "code",
   "execution_count": 189,
   "id": "6270a9f4",
   "metadata": {},
   "outputs": [
    {
     "name": "stdout",
     "output_type": "stream",
     "text": [
      "0.3513885332517388\n"
     ]
    }
   ],
   "source": [
    "# model evaluation\n",
    "scoreLR1 = r2_score(y_test, y_pred)\n",
    "print(score)# score"
   ]
  },
  {
   "cell_type": "markdown",
   "id": "de97b533",
   "metadata": {},
   "source": [
    "<b>Observation:</b> As you can see, this multivariable regression model has a low score of 0.35. ASIDE: Providing a normalized dataset could improve performance."
   ]
  },
  {
   "cell_type": "markdown",
   "id": "b4e608bb",
   "metadata": {},
   "source": [
    "##### Algorithm 2: Multiple Regression Using Statsmodels\n",
    "Code snippets taken from https://www.datarobot.com/blog/multiple-regression-using-statsmodels/"
   ]
  },
  {
   "cell_type": "code",
   "execution_count": 190,
   "id": "283441cc",
   "metadata": {
    "scrolled": true
   },
   "outputs": [],
   "source": [
    "import statsmodels.api as sm\n"
   ]
  },
  {
   "cell_type": "code",
   "execution_count": 191,
   "id": "bae51873",
   "metadata": {},
   "outputs": [
    {
     "data": {
      "text/html": [
       "<table class=\"simpletable\">\n",
       "<caption>OLS Regression Results</caption>\n",
       "<tr>\n",
       "  <th>Dep. Variable:</th>         <td>quality</td>     <th>  R-squared:         </th> <td>   0.361</td> \n",
       "</tr>\n",
       "<tr>\n",
       "  <th>Model:</th>                   <td>OLS</td>       <th>  Adj. R-squared:    </th> <td>   0.356</td> \n",
       "</tr>\n",
       "<tr>\n",
       "  <th>Method:</th>             <td>Least Squares</td>  <th>  F-statistic:       </th> <td>   81.35</td> \n",
       "</tr>\n",
       "<tr>\n",
       "  <th>Date:</th>             <td>Tue, 09 Aug 2022</td> <th>  Prob (F-statistic):</th> <td>1.79e-145</td>\n",
       "</tr>\n",
       "<tr>\n",
       "  <th>Time:</th>                 <td>23:24:01</td>     <th>  Log-Likelihood:    </th> <td> -1569.1</td> \n",
       "</tr>\n",
       "<tr>\n",
       "  <th>No. Observations:</th>      <td>  1599</td>      <th>  AIC:               </th> <td>   3162.</td> \n",
       "</tr>\n",
       "<tr>\n",
       "  <th>Df Residuals:</th>          <td>  1587</td>      <th>  BIC:               </th> <td>   3227.</td> \n",
       "</tr>\n",
       "<tr>\n",
       "  <th>Df Model:</th>              <td>    11</td>      <th>                     </th>     <td> </td>    \n",
       "</tr>\n",
       "<tr>\n",
       "  <th>Covariance Type:</th>      <td>nonrobust</td>    <th>                     </th>     <td> </td>    \n",
       "</tr>\n",
       "</table>\n",
       "<table class=\"simpletable\">\n",
       "<tr>\n",
       "            <td></td>              <th>coef</th>     <th>std err</th>      <th>t</th>      <th>P>|t|</th>  <th>[0.025</th>    <th>0.975]</th>  \n",
       "</tr>\n",
       "<tr>\n",
       "  <th>const</th>                <td>   21.9652</td> <td>   21.195</td> <td>    1.036</td> <td> 0.300</td> <td>  -19.607</td> <td>   63.538</td>\n",
       "</tr>\n",
       "<tr>\n",
       "  <th>fixed acidity</th>        <td>    0.0250</td> <td>    0.026</td> <td>    0.963</td> <td> 0.336</td> <td>   -0.026</td> <td>    0.076</td>\n",
       "</tr>\n",
       "<tr>\n",
       "  <th>volatile acidity</th>     <td>   -1.0836</td> <td>    0.121</td> <td>   -8.948</td> <td> 0.000</td> <td>   -1.321</td> <td>   -0.846</td>\n",
       "</tr>\n",
       "<tr>\n",
       "  <th>citric acid</th>          <td>   -0.1826</td> <td>    0.147</td> <td>   -1.240</td> <td> 0.215</td> <td>   -0.471</td> <td>    0.106</td>\n",
       "</tr>\n",
       "<tr>\n",
       "  <th>residual sugar</th>       <td>    0.0163</td> <td>    0.015</td> <td>    1.089</td> <td> 0.276</td> <td>   -0.013</td> <td>    0.046</td>\n",
       "</tr>\n",
       "<tr>\n",
       "  <th>chlorides</th>            <td>   -1.8742</td> <td>    0.419</td> <td>   -4.470</td> <td> 0.000</td> <td>   -2.697</td> <td>   -1.052</td>\n",
       "</tr>\n",
       "<tr>\n",
       "  <th>free sulfur dioxide</th>  <td>    0.0044</td> <td>    0.002</td> <td>    2.009</td> <td> 0.045</td> <td>    0.000</td> <td>    0.009</td>\n",
       "</tr>\n",
       "<tr>\n",
       "  <th>total sulfur dioxide</th> <td>   -0.0033</td> <td>    0.001</td> <td>   -4.480</td> <td> 0.000</td> <td>   -0.005</td> <td>   -0.002</td>\n",
       "</tr>\n",
       "<tr>\n",
       "  <th>density</th>              <td>  -17.8812</td> <td>   21.633</td> <td>   -0.827</td> <td> 0.409</td> <td>  -60.314</td> <td>   24.551</td>\n",
       "</tr>\n",
       "<tr>\n",
       "  <th>pH</th>                   <td>   -0.4137</td> <td>    0.192</td> <td>   -2.159</td> <td> 0.031</td> <td>   -0.789</td> <td>   -0.038</td>\n",
       "</tr>\n",
       "<tr>\n",
       "  <th>sulphates</th>            <td>    0.9163</td> <td>    0.114</td> <td>    8.014</td> <td> 0.000</td> <td>    0.692</td> <td>    1.141</td>\n",
       "</tr>\n",
       "<tr>\n",
       "  <th>alcohol</th>              <td>    0.2762</td> <td>    0.026</td> <td>   10.429</td> <td> 0.000</td> <td>    0.224</td> <td>    0.328</td>\n",
       "</tr>\n",
       "</table>\n",
       "<table class=\"simpletable\">\n",
       "<tr>\n",
       "  <th>Omnibus:</th>       <td>27.376</td> <th>  Durbin-Watson:     </th> <td>   1.757</td>\n",
       "</tr>\n",
       "<tr>\n",
       "  <th>Prob(Omnibus):</th> <td> 0.000</td> <th>  Jarque-Bera (JB):  </th> <td>  40.965</td>\n",
       "</tr>\n",
       "<tr>\n",
       "  <th>Skew:</th>          <td>-0.168</td> <th>  Prob(JB):          </th> <td>1.27e-09</td>\n",
       "</tr>\n",
       "<tr>\n",
       "  <th>Kurtosis:</th>      <td> 3.708</td> <th>  Cond. No.          </th> <td>1.13e+05</td>\n",
       "</tr>\n",
       "</table><br/><br/>Notes:<br/>[1] Standard Errors assume that the covariance matrix of the errors is correctly specified.<br/>[2] The condition number is large, 1.13e+05. This might indicate that there are<br/>strong multicollinearity or other numerical problems."
      ],
      "text/plain": [
       "<class 'statsmodels.iolib.summary.Summary'>\n",
       "\"\"\"\n",
       "                            OLS Regression Results                            \n",
       "==============================================================================\n",
       "Dep. Variable:                quality   R-squared:                       0.361\n",
       "Model:                            OLS   Adj. R-squared:                  0.356\n",
       "Method:                 Least Squares   F-statistic:                     81.35\n",
       "Date:                Tue, 09 Aug 2022   Prob (F-statistic):          1.79e-145\n",
       "Time:                        23:24:01   Log-Likelihood:                -1569.1\n",
       "No. Observations:                1599   AIC:                             3162.\n",
       "Df Residuals:                    1587   BIC:                             3227.\n",
       "Df Model:                          11                                         \n",
       "Covariance Type:            nonrobust                                         \n",
       "========================================================================================\n",
       "                           coef    std err          t      P>|t|      [0.025      0.975]\n",
       "----------------------------------------------------------------------------------------\n",
       "const                   21.9652     21.195      1.036      0.300     -19.607      63.538\n",
       "fixed acidity            0.0250      0.026      0.963      0.336      -0.026       0.076\n",
       "volatile acidity        -1.0836      0.121     -8.948      0.000      -1.321      -0.846\n",
       "citric acid             -0.1826      0.147     -1.240      0.215      -0.471       0.106\n",
       "residual sugar           0.0163      0.015      1.089      0.276      -0.013       0.046\n",
       "chlorides               -1.8742      0.419     -4.470      0.000      -2.697      -1.052\n",
       "free sulfur dioxide      0.0044      0.002      2.009      0.045       0.000       0.009\n",
       "total sulfur dioxide    -0.0033      0.001     -4.480      0.000      -0.005      -0.002\n",
       "density                -17.8812     21.633     -0.827      0.409     -60.314      24.551\n",
       "pH                      -0.4137      0.192     -2.159      0.031      -0.789      -0.038\n",
       "sulphates                0.9163      0.114      8.014      0.000       0.692       1.141\n",
       "alcohol                  0.2762      0.026     10.429      0.000       0.224       0.328\n",
       "==============================================================================\n",
       "Omnibus:                       27.376   Durbin-Watson:                   1.757\n",
       "Prob(Omnibus):                  0.000   Jarque-Bera (JB):               40.965\n",
       "Skew:                          -0.168   Prob(JB):                     1.27e-09\n",
       "Kurtosis:                       3.708   Cond. No.                     1.13e+05\n",
       "==============================================================================\n",
       "\n",
       "Notes:\n",
       "[1] Standard Errors assume that the covariance matrix of the errors is correctly specified.\n",
       "[2] The condition number is large, 1.13e+05. This might indicate that there are\n",
       "strong multicollinearity or other numerical problems.\n",
       "\"\"\""
      ]
     },
     "execution_count": 191,
     "metadata": {},
     "output_type": "execute_result"
    }
   ],
   "source": [
    "## fit a OLS model with intercept on TV and Radio \n",
    "X1 = sm.add_constant(X) \n",
    "est = sm.OLS(y, X1).fit() \n",
    "est.summary()"
   ]
  },
  {
   "cell_type": "markdown",
   "id": "7a9f1c50",
   "metadata": {},
   "source": [
    "<b>Observation:</b> As you can see with model, the r2 score is 0.361, similar to algorithm 1. ASIDE: Providing a normalized dataset could improve performance."
   ]
  },
  {
   "cell_type": "markdown",
   "id": "d925d738",
   "metadata": {},
   "source": [
    "#### Neural Network Implementation"
   ]
  },
  {
   "cell_type": "code",
   "execution_count": 192,
   "id": "d091dc8f",
   "metadata": {
    "collapsed": true
   },
   "outputs": [
    {
     "name": "stdout",
     "output_type": "stream",
     "text": [
      "Requirement already satisfied: tensorflow in c:\\users\\param\\anaconda3\\lib\\site-packages (2.9.1)\n",
      "Requirement already satisfied: tensorflow-io-gcs-filesystem>=0.23.1 in c:\\users\\param\\anaconda3\\lib\\site-packages (from tensorflow) (0.26.0)\n",
      "Requirement already satisfied: absl-py>=1.0.0 in c:\\users\\param\\anaconda3\\lib\\site-packages (from tensorflow) (1.2.0)\n",
      "Requirement already satisfied: termcolor>=1.1.0 in c:\\users\\param\\anaconda3\\lib\\site-packages (from tensorflow) (1.1.0)\n",
      "Requirement already satisfied: protobuf<3.20,>=3.9.2 in c:\\users\\param\\anaconda3\\lib\\site-packages (from tensorflow) (3.19.1)\n",
      "Requirement already satisfied: keras-preprocessing>=1.1.1 in c:\\users\\param\\anaconda3\\lib\\site-packages (from tensorflow) (1.1.2)\n",
      "Requirement already satisfied: numpy>=1.20 in c:\\users\\param\\anaconda3\\lib\\site-packages (from tensorflow) (1.21.5)\n",
      "Requirement already satisfied: google-pasta>=0.1.1 in c:\\users\\param\\anaconda3\\lib\\site-packages (from tensorflow) (0.2.0)\n",
      "Requirement already satisfied: h5py>=2.9.0 in c:\\users\\param\\anaconda3\\lib\\site-packages (from tensorflow) (3.6.0)\n",
      "Requirement already satisfied: tensorboard<2.10,>=2.9 in c:\\users\\param\\anaconda3\\lib\\site-packages (from tensorflow) (2.9.1)\n",
      "Requirement already satisfied: packaging in c:\\users\\param\\anaconda3\\lib\\site-packages (from tensorflow) (21.3)\n",
      "Requirement already satisfied: astunparse>=1.6.0 in c:\\users\\param\\anaconda3\\lib\\site-packages (from tensorflow) (1.6.3)\n",
      "Requirement already satisfied: tensorflow-estimator<2.10.0,>=2.9.0rc0 in c:\\users\\param\\anaconda3\\lib\\site-packages (from tensorflow) (2.9.0)\n",
      "Requirement already satisfied: gast<=0.4.0,>=0.2.1 in c:\\users\\param\\anaconda3\\lib\\site-packages (from tensorflow) (0.4.0)\n",
      "Requirement already satisfied: six>=1.12.0 in c:\\users\\param\\anaconda3\\lib\\site-packages (from tensorflow) (1.16.0)\n",
      "Requirement already satisfied: setuptools in c:\\users\\param\\anaconda3\\lib\\site-packages (from tensorflow) (61.2.0)\n",
      "Requirement already satisfied: keras<2.10.0,>=2.9.0rc0 in c:\\users\\param\\anaconda3\\lib\\site-packages (from tensorflow) (2.9.0)\n",
      "Requirement already satisfied: wrapt>=1.11.0 in c:\\users\\param\\anaconda3\\lib\\site-packages (from tensorflow) (1.12.1)\n",
      "Requirement already satisfied: flatbuffers<2,>=1.12 in c:\\users\\param\\anaconda3\\lib\\site-packages (from tensorflow) (1.12)\n",
      "Requirement already satisfied: typing-extensions>=3.6.6 in c:\\users\\param\\anaconda3\\lib\\site-packages (from tensorflow) (4.1.1)\n",
      "Requirement already satisfied: opt-einsum>=2.3.2 in c:\\users\\param\\anaconda3\\lib\\site-packages (from tensorflow) (3.3.0)\n",
      "Requirement already satisfied: libclang>=13.0.0 in c:\\users\\param\\anaconda3\\lib\\site-packages (from tensorflow) (14.0.6)\n",
      "Requirement already satisfied: grpcio<2.0,>=1.24.3 in c:\\users\\param\\anaconda3\\lib\\site-packages (from tensorflow) (1.42.0)\n",
      "Requirement already satisfied: wheel<1.0,>=0.23.0 in c:\\users\\param\\anaconda3\\lib\\site-packages (from astunparse>=1.6.0->tensorflow) (0.37.1)\n",
      "Requirement already satisfied: google-auth<3,>=1.6.3 in c:\\users\\param\\anaconda3\\lib\\site-packages (from tensorboard<2.10,>=2.9->tensorflow) (1.33.0)\n",
      "Requirement already satisfied: tensorboard-data-server<0.7.0,>=0.6.0 in c:\\users\\param\\anaconda3\\lib\\site-packages (from tensorboard<2.10,>=2.9->tensorflow) (0.6.1)\n",
      "Requirement already satisfied: requests<3,>=2.21.0 in c:\\users\\param\\anaconda3\\lib\\site-packages (from tensorboard<2.10,>=2.9->tensorflow) (2.27.1)\n",
      "Requirement already satisfied: tensorboard-plugin-wit>=1.6.0 in c:\\users\\param\\anaconda3\\lib\\site-packages (from tensorboard<2.10,>=2.9->tensorflow) (1.8.1)\n",
      "Requirement already satisfied: google-auth-oauthlib<0.5,>=0.4.1 in c:\\users\\param\\anaconda3\\lib\\site-packages (from tensorboard<2.10,>=2.9->tensorflow) (0.4.6)\n",
      "Requirement already satisfied: werkzeug>=1.0.1 in c:\\users\\param\\anaconda3\\lib\\site-packages (from tensorboard<2.10,>=2.9->tensorflow) (2.0.3)\n",
      "Requirement already satisfied: markdown>=2.6.8 in c:\\users\\param\\anaconda3\\lib\\site-packages (from tensorboard<2.10,>=2.9->tensorflow) (3.3.4)\n",
      "Requirement already satisfied: cachetools<5.0,>=2.0.0 in c:\\users\\param\\anaconda3\\lib\\site-packages (from google-auth<3,>=1.6.3->tensorboard<2.10,>=2.9->tensorflow) (4.2.2)\n",
      "Requirement already satisfied: pyasn1-modules>=0.2.1 in c:\\users\\param\\anaconda3\\lib\\site-packages (from google-auth<3,>=1.6.3->tensorboard<2.10,>=2.9->tensorflow) (0.2.8)\n",
      "Requirement already satisfied: rsa<5,>=3.1.4 in c:\\users\\param\\anaconda3\\lib\\site-packages (from google-auth<3,>=1.6.3->tensorboard<2.10,>=2.9->tensorflow) (4.7.2)\n",
      "Requirement already satisfied: requests-oauthlib>=0.7.0 in c:\\users\\param\\anaconda3\\lib\\site-packages (from google-auth-oauthlib<0.5,>=0.4.1->tensorboard<2.10,>=2.9->tensorflow) (1.3.1)\n",
      "Requirement already satisfied: pyasn1<0.5.0,>=0.4.6 in c:\\users\\param\\anaconda3\\lib\\site-packages (from pyasn1-modules>=0.2.1->google-auth<3,>=1.6.3->tensorboard<2.10,>=2.9->tensorflow) (0.4.8)\n",
      "Requirement already satisfied: charset-normalizer~=2.0.0 in c:\\users\\param\\anaconda3\\lib\\site-packages (from requests<3,>=2.21.0->tensorboard<2.10,>=2.9->tensorflow) (2.0.4)\n",
      "Requirement already satisfied: urllib3<1.27,>=1.21.1 in c:\\users\\param\\anaconda3\\lib\\site-packages (from requests<3,>=2.21.0->tensorboard<2.10,>=2.9->tensorflow) (1.26.9)\n",
      "Requirement already satisfied: certifi>=2017.4.17 in c:\\users\\param\\anaconda3\\lib\\site-packages (from requests<3,>=2.21.0->tensorboard<2.10,>=2.9->tensorflow) (2021.10.8)\n",
      "Requirement already satisfied: idna<4,>=2.5 in c:\\users\\param\\anaconda3\\lib\\site-packages (from requests<3,>=2.21.0->tensorboard<2.10,>=2.9->tensorflow) (3.3)\n",
      "Requirement already satisfied: oauthlib>=3.0.0 in c:\\users\\param\\anaconda3\\lib\\site-packages (from requests-oauthlib>=0.7.0->google-auth-oauthlib<0.5,>=0.4.1->tensorboard<2.10,>=2.9->tensorflow) (3.2.0)\n",
      "Requirement already satisfied: pyparsing!=3.0.5,>=2.0.2 in c:\\users\\param\\anaconda3\\lib\\site-packages (from packaging->tensorflow) (3.0.4)\n"
     ]
    }
   ],
   "source": [
    "!pip install tensorflow\n",
    "import tensorflow as tf\n",
    "from tensorflow.keras.models import Sequential\n",
    "from tensorflow.keras.layers import Flatten, Dense, Dropout"
   ]
  },
  {
   "cell_type": "code",
   "execution_count": 198,
   "id": "c1fc18eb",
   "metadata": {},
   "outputs": [],
   "source": [
    "#99/1 split for NN\n",
    "X_train, X_test, y_train, y_test = train_test_split(X, y, test_size = 0.01, random_state = 42)"
   ]
  },
  {
   "cell_type": "code",
   "execution_count": 199,
   "id": "e5cf3f0f",
   "metadata": {},
   "outputs": [],
   "source": [
    "from sklearn.preprocessing import MinMaxScaler\n",
    "scaled_X_train = MinMaxScaler().fit_transform(X_train)\n",
    "scaled_X_test = MinMaxScaler().fit_transform(X_test)"
   ]
  },
  {
   "cell_type": "code",
   "execution_count": 200,
   "id": "d2a1087f",
   "metadata": {},
   "outputs": [
    {
     "data": {
      "text/plain": [
       "(1583, 11)"
      ]
     },
     "execution_count": 200,
     "metadata": {},
     "output_type": "execute_result"
    }
   ],
   "source": [
    "scaled_X_train.shape"
   ]
  },
  {
   "cell_type": "code",
   "execution_count": 201,
   "id": "91e8d7a6",
   "metadata": {},
   "outputs": [
    {
     "data": {
      "text/plain": [
       "(16, 11)"
      ]
     },
     "execution_count": 201,
     "metadata": {},
     "output_type": "execute_result"
    }
   ],
   "source": [
    "scaled_X_test.shape"
   ]
  },
  {
   "cell_type": "code",
   "execution_count": 202,
   "id": "0a5e3784",
   "metadata": {},
   "outputs": [],
   "source": [
    "model_neural = Sequential([\n",
    "  #Flatten(input_shape=(11)),\n",
    "  Dense(512, activation=tf.nn.relu),\n",
    "  Dense(200, activation=tf.nn.relu),\n",
    "  Dense(100, activation=tf.nn.relu),\n",
    "  Dense(10, activation=tf.nn.softmax)\n",
    "])"
   ]
  },
  {
   "cell_type": "code",
   "execution_count": 203,
   "id": "9f56cf1f",
   "metadata": {},
   "outputs": [],
   "source": [
    "model_neural.compile(optimizer='adam',\n",
    "              loss='sparse_categorical_crossentropy',\n",
    "              metrics=['accuracy'])"
   ]
  },
  {
   "cell_type": "code",
   "execution_count": 204,
   "id": "5e686457",
   "metadata": {},
   "outputs": [
    {
     "name": "stdout",
     "output_type": "stream",
     "text": [
      "50/50 [==============================] - 1s 3ms/step - loss: 1.3820 - accuracy: 0.4700\n"
     ]
    },
    {
     "data": {
      "text/plain": [
       "<keras.callbacks.History at 0x2293ec0bb20>"
      ]
     },
     "execution_count": 204,
     "metadata": {},
     "output_type": "execute_result"
    }
   ],
   "source": [
    "model_neural.fit(scaled_X_train, y_train, epochs=1)"
   ]
  },
  {
   "cell_type": "code",
   "execution_count": 205,
   "id": "fc575dc4",
   "metadata": {},
   "outputs": [
    {
     "name": "stdout",
     "output_type": "stream",
     "text": [
      "1/1 [==============================] - 0s 188ms/step - loss: 1.3071 - accuracy: 0.5625\n"
     ]
    },
    {
     "data": {
      "text/plain": [
       "[1.3070738315582275, 0.5625]"
      ]
     },
     "execution_count": 205,
     "metadata": {},
     "output_type": "execute_result"
    }
   ],
   "source": [
    "model_neural.evaluate(scaled_X_test, y_test)"
   ]
  },
  {
   "cell_type": "markdown",
   "id": "3b68a874",
   "metadata": {},
   "source": [
    "### Model Evaluation\n",
    "\n",
    "Evaluating the model accuracy is an essential part of the process in creating machine learning models to describe how well the model is performing in its predictions. Evaluation metrics change according to the problem type. Here, we'll briefly learn how to check the accuracy of the regression model.\n",
    "\n",
    "The linear model (regression) can be a typical example of this type of problem, and the main characteristic of the regression problem is that the targets of a dataset contain the real numbers only. The errors represent how much the model is making mistakes in its prediction. The basic concept of accuracy evaluation is to compare the original target with the predicted one according to certain metrics.\n",
    "\n",
    "\n",
    "**Regression model evaluation metrics**\n",
    "\n",
    "The MAE, RMSE, and R-Squared metrics are mainly used to evaluate the prediction error rates and model performance in regression analysis.\n",
    "\n",
    "**MAE (Mean absolute error)** represents the difference between the original and predicted values extracted by averaged the absolute difference over the data set.\n",
    "\n",
    "**RMSE (Root Mean Squared Error)** is the error rate by the square root of MSE.\n",
    "\n",
    "**R-squared (Coefficient of determination)** represents the coefficient of how well the values fit compared to the original values. The value from 0 to 1 interpreted as percentages. The higher the value is, the better the model is.\n",
    "\n",
    "The above metrics can be expressed as following:\n",
    "<img src = \"https://4.bp.blogspot.com/-wG7IbjTfE6k/XGUvqm7TCVI/AAAAAAAAAZU/vpH1kuKTIooKTcVlnm1EVRCXLVZM9cPNgCLcBGAs/s1600/formula-MAE-MSE-RMSE-RSquared.JPG\">\n",
    "\n",
    "Please find more information on how to implement them from this link: https://scikit-learn.org/stable/modules/classes.html#regression-metrics\n",
    "\n",
    "Find more about feature importances from here: https://machinelearningmastery.com/calculate-feature-importance-with-python/\n",
    "\n",
    "**Classification model evaluation metrics**\n",
    "\n",
    "<img src=\"https://www.researchgate.net/publication/336402347/figure/fig3/AS:812472659349505@1570719985505/Calculation-of-Precision-Recall-and-Accuracy-in-the-confusion-matrix.ppm\">"
   ]
  },
  {
   "cell_type": "markdown",
   "id": "0cc9ec55",
   "metadata": {},
   "source": [
    "*TODO*\n",
    "\n",
    "**For Regression models**\n",
    "<li>Use three metrics: R-squared, RMSE, and MAE, to evaluate model prediction performance</li>\n",
    "<li>Compare these 3 metrics for the two models and analyze the performance</li>\n",
    "<li>Calculate the feature importance scores for the top features that help predicting wine quality and visualize them</li>\n",
    "\n",
    "**For Classification model**\n",
    "<li> Plot training loss and validation loss </li>\n",
    "<li> Plot training accuracy and validation accuracy </li>\n",
    "<li> Evaluate the classsification model using Precision, Recall and Accuracy metrics </li>"
   ]
  },
  {
   "cell_type": "markdown",
   "id": "ed9b2a38",
   "metadata": {},
   "source": [
    "### Model Evaluation For Regression Models"
   ]
  },
  {
   "attachments": {},
   "cell_type": "markdown",
   "id": "4a565cdb",
   "metadata": {},
   "source": [
    "Algorithm 1"
   ]
  },
  {
   "cell_type": "code",
   "execution_count": 208,
   "id": "f963835c",
   "metadata": {
    "scrolled": true
   },
   "outputs": [
    {
     "data": {
      "text/plain": [
       "0.3513885332517388"
      ]
     },
     "execution_count": 208,
     "metadata": {},
     "output_type": "execute_result"
    }
   ],
   "source": [
    "scoreLR1 #Score calculated from before"
   ]
  },
  {
   "cell_type": "markdown",
   "id": "04bf73cc",
   "metadata": {},
   "source": [
    "#### Calculate the feature importance scores for the top features that help predicting wine quality and visualize them\n",
    "Code snippet taken from https://machinelearningmastery.com/calculate-feature-importance-with-python/"
   ]
  },
  {
   "cell_type": "code",
   "execution_count": 182,
   "id": "8b5e36a8",
   "metadata": {},
   "outputs": [
    {
     "name": "stdout",
     "output_type": "stream",
     "text": [
      "1.0.2\n",
      "Feature: 0, Score: 0.03697\n",
      "Feature: 1, Score: 0.11892\n",
      "Feature: 2, Score: 0.04136\n",
      "Feature: 3, Score: 0.05506\n",
      "Feature: 4, Score: 0.03659\n",
      "Feature: 5, Score: 0.05321\n",
      "Feature: 6, Score: 0.07146\n",
      "Feature: 7, Score: 0.05373\n",
      "Feature: 8, Score: 0.07774\n",
      "Feature: 9, Score: 0.16135\n",
      "Feature: 10, Score: 0.29362\n"
     ]
    },
    {
     "data": {
      "image/png": "[encoded data removed]",
      "text/plain": [
       "<Figure size 432x288 with 1 Axes>"
      ]
     },
     "metadata": {
      "needs_background": "light"
     },
     "output_type": "display_data"
    }
   ],
   "source": [
    "import sklearn\n",
    "print(sklearn.__version__)\n",
    "\n",
    "# decision tree for feature importance on a regression problem\n",
    "from sklearn.datasets import make_regression\n",
    "from sklearn.tree import DecisionTreeRegressor\n",
    "from matplotlib import pyplot\n",
    "\n",
    "# define the model\n",
    "model = DecisionTreeRegressor()\n",
    "# fit the model\n",
    "model.fit(X_train, y_train)\n",
    "# get importance\n",
    "importance = model.feature_importances_\n",
    "# summarize feature importance\n",
    "for i,v in enumerate(importance):\n",
    "    print('Feature: %0d, Score: %.5f' % (i,v))\n",
    "# plot feature importance\n",
    "pyplot.bar([x for x in range(len(importance))], importance)\n",
    "pyplot.show()"
   ]
  },
  {
   "cell_type": "markdown",
   "id": "23e63c7f",
   "metadata": {},
   "source": [
    "<b>Feature 10 = Alcohol <br>\n",
    "Feature 9 = Sulphates <br>\n",
    "Feature 1 = Volatile acidity <br></b>\n",
    "<br>\n",
    "<br>\n",
    "The 3 most important features are Alcohol, Sulphates, Volatile acidity"
   ]
  },
  {
   "cell_type": "markdown",
   "id": "504445f1",
   "metadata": {},
   "source": [
    "### Model Evaluation For Classification Model"
   ]
  },
  {
   "cell_type": "markdown",
   "id": "51689320",
   "metadata": {},
   "source": [
    "#### Plot training accuracy and validation accuracy \n",
    "Taken from https://stackoverflow.com/questions/41908379/keras-plot-training-validation-and-test-set-accuracy"
   ]
  },
  {
   "cell_type": "code",
   "execution_count": 206,
   "id": "4ddeceb9",
   "metadata": {},
   "outputs": [
    {
     "name": "stdout",
     "output_type": "stream",
     "text": [
      "Epoch 1/50\n",
      "392/392 [==============================] - 1s 3ms/step - loss: 1.0499 - accuracy: 0.5641 - val_loss: 1.2116 - val_accuracy: 0.5625\n",
      "Epoch 2/50\n",
      "392/392 [==============================] - 1s 3ms/step - loss: 0.9989 - accuracy: 0.5814 - val_loss: 1.1101 - val_accuracy: 0.5625\n",
      "Epoch 3/50\n",
      "392/392 [==============================] - 1s 3ms/step - loss: 0.9813 - accuracy: 0.5839 - val_loss: 0.9744 - val_accuracy: 0.6875\n",
      "Epoch 4/50\n",
      "392/392 [==============================] - 1s 2ms/step - loss: 0.9656 - accuracy: 0.5788 - val_loss: 0.9338 - val_accuracy: 0.6875\n",
      "Epoch 5/50\n",
      "392/392 [==============================] - 1s 2ms/step - loss: 0.9463 - accuracy: 0.5795 - val_loss: 1.1310 - val_accuracy: 0.6875\n",
      "Epoch 6/50\n",
      "392/392 [==============================] - 1s 3ms/step - loss: 0.9476 - accuracy: 0.5839 - val_loss: 0.9136 - val_accuracy: 0.6875\n",
      "Epoch 7/50\n",
      "392/392 [==============================] - 1s 3ms/step - loss: 0.9404 - accuracy: 0.5833 - val_loss: 0.8372 - val_accuracy: 0.8125\n",
      "Epoch 8/50\n",
      "392/392 [==============================] - 1s 3ms/step - loss: 0.9368 - accuracy: 0.5992 - val_loss: 0.8802 - val_accuracy: 0.7500\n",
      "Epoch 9/50\n",
      "392/392 [==============================] - 1s 3ms/step - loss: 0.9222 - accuracy: 0.6107 - val_loss: 0.7850 - val_accuracy: 0.7500\n",
      "Epoch 10/50\n",
      "392/392 [==============================] - 1s 2ms/step - loss: 0.9187 - accuracy: 0.6075 - val_loss: 0.9361 - val_accuracy: 0.6875\n",
      "Epoch 11/50\n",
      "392/392 [==============================] - 1s 2ms/step - loss: 0.9078 - accuracy: 0.6126 - val_loss: 0.8795 - val_accuracy: 0.8125\n",
      "Epoch 12/50\n",
      "392/392 [==============================] - 1s 2ms/step - loss: 0.9000 - accuracy: 0.6120 - val_loss: 0.9534 - val_accuracy: 0.5625\n",
      "Epoch 13/50\n",
      "392/392 [==============================] - 1s 3ms/step - loss: 0.8895 - accuracy: 0.6158 - val_loss: 0.9409 - val_accuracy: 0.6875\n",
      "Epoch 14/50\n",
      "392/392 [==============================] - 1s 3ms/step - loss: 0.8910 - accuracy: 0.6133 - val_loss: 0.7777 - val_accuracy: 0.7500\n",
      "Epoch 15/50\n",
      "392/392 [==============================] - 1s 3ms/step - loss: 0.8793 - accuracy: 0.6209 - val_loss: 0.8730 - val_accuracy: 0.7500\n",
      "Epoch 16/50\n",
      "392/392 [==============================] - 1s 2ms/step - loss: 0.8809 - accuracy: 0.6248 - val_loss: 0.8639 - val_accuracy: 0.7500\n",
      "Epoch 17/50\n",
      "392/392 [==============================] - 1s 2ms/step - loss: 0.8810 - accuracy: 0.6280 - val_loss: 0.9024 - val_accuracy: 0.6875\n",
      "Epoch 18/50\n",
      "392/392 [==============================] - 1s 3ms/step - loss: 0.8658 - accuracy: 0.6343 - val_loss: 0.8035 - val_accuracy: 0.7500\n",
      "Epoch 19/50\n",
      "392/392 [==============================] - 1s 3ms/step - loss: 0.8614 - accuracy: 0.6260 - val_loss: 0.8374 - val_accuracy: 0.6875\n",
      "Epoch 20/50\n",
      "392/392 [==============================] - 1s 3ms/step - loss: 0.8539 - accuracy: 0.6382 - val_loss: 0.9436 - val_accuracy: 0.6250\n",
      "Epoch 21/50\n",
      "392/392 [==============================] - 1s 3ms/step - loss: 0.8539 - accuracy: 0.6356 - val_loss: 0.9943 - val_accuracy: 0.6875\n",
      "Epoch 22/50\n",
      "392/392 [==============================] - 1s 3ms/step - loss: 0.8402 - accuracy: 0.6369 - val_loss: 0.8785 - val_accuracy: 0.6250\n",
      "Epoch 23/50\n",
      "392/392 [==============================] - 1s 3ms/step - loss: 0.8412 - accuracy: 0.6388 - val_loss: 0.7353 - val_accuracy: 0.8125\n",
      "Epoch 24/50\n",
      "392/392 [==============================] - 1s 2ms/step - loss: 0.8377 - accuracy: 0.6375 - val_loss: 0.7760 - val_accuracy: 0.7500\n",
      "Epoch 25/50\n",
      "392/392 [==============================] - 1s 3ms/step - loss: 0.8237 - accuracy: 0.6445 - val_loss: 0.8795 - val_accuracy: 0.6875\n",
      "Epoch 26/50\n",
      "392/392 [==============================] - 1s 3ms/step - loss: 0.8235 - accuracy: 0.6433 - val_loss: 0.8201 - val_accuracy: 0.6875\n",
      "Epoch 27/50\n",
      "392/392 [==============================] - 1s 3ms/step - loss: 0.8152 - accuracy: 0.6503 - val_loss: 0.8511 - val_accuracy: 0.6875\n",
      "Epoch 28/50\n",
      "392/392 [==============================] - 1s 3ms/step - loss: 0.7981 - accuracy: 0.6535 - val_loss: 0.9848 - val_accuracy: 0.7500\n",
      "Epoch 29/50\n",
      "392/392 [==============================] - 1s 2ms/step - loss: 0.7979 - accuracy: 0.6496 - val_loss: 0.8195 - val_accuracy: 0.7500\n",
      "Epoch 30/50\n",
      "392/392 [==============================] - 1s 3ms/step - loss: 0.7867 - accuracy: 0.6592 - val_loss: 0.8699 - val_accuracy: 0.6250\n",
      "Epoch 31/50\n",
      "392/392 [==============================] - 1s 3ms/step - loss: 0.7805 - accuracy: 0.6650 - val_loss: 1.0619 - val_accuracy: 0.6875\n",
      "Epoch 32/50\n",
      "392/392 [==============================] - 1s 2ms/step - loss: 0.7648 - accuracy: 0.6662 - val_loss: 0.7364 - val_accuracy: 0.7500\n",
      "Epoch 33/50\n",
      "392/392 [==============================] - 1s 3ms/step - loss: 0.7583 - accuracy: 0.6688 - val_loss: 0.9043 - val_accuracy: 0.6875\n",
      "Epoch 34/50\n",
      "392/392 [==============================] - 1s 3ms/step - loss: 0.7620 - accuracy: 0.6637 - val_loss: 0.9052 - val_accuracy: 0.6875\n",
      "Epoch 35/50\n",
      "392/392 [==============================] - 1s 3ms/step - loss: 0.7410 - accuracy: 0.6707 - val_loss: 0.9083 - val_accuracy: 0.6250\n",
      "Epoch 36/50\n",
      "392/392 [==============================] - 1s 2ms/step - loss: 0.7397 - accuracy: 0.6688 - val_loss: 0.9188 - val_accuracy: 0.6250\n",
      "Epoch 37/50\n",
      "392/392 [==============================] - 1s 3ms/step - loss: 0.7300 - accuracy: 0.6962 - val_loss: 0.9002 - val_accuracy: 0.6250\n",
      "Epoch 38/50\n",
      "392/392 [==============================] - 1s 2ms/step - loss: 0.7159 - accuracy: 0.6911 - val_loss: 0.9573 - val_accuracy: 0.6250\n",
      "Epoch 39/50\n",
      "392/392 [==============================] - 1s 2ms/step - loss: 0.7156 - accuracy: 0.6822 - val_loss: 1.0662 - val_accuracy: 0.6250\n",
      "Epoch 40/50\n",
      "392/392 [==============================] - 1s 3ms/step - loss: 0.7016 - accuracy: 0.6937 - val_loss: 0.8933 - val_accuracy: 0.7500\n",
      "Epoch 41/50\n",
      "392/392 [==============================] - 1s 2ms/step - loss: 0.6949 - accuracy: 0.6886 - val_loss: 0.9547 - val_accuracy: 0.6250\n",
      "Epoch 42/50\n",
      "392/392 [==============================] - 1s 3ms/step - loss: 0.6715 - accuracy: 0.7077 - val_loss: 1.0733 - val_accuracy: 0.6250\n",
      "Epoch 43/50\n",
      "392/392 [==============================] - 1s 3ms/step - loss: 0.6694 - accuracy: 0.7071 - val_loss: 0.9332 - val_accuracy: 0.6250\n",
      "Epoch 44/50\n",
      "392/392 [==============================] - 1s 3ms/step - loss: 0.6489 - accuracy: 0.7256 - val_loss: 0.7421 - val_accuracy: 0.7500\n",
      "Epoch 45/50\n",
      "392/392 [==============================] - 1s 2ms/step - loss: 0.6463 - accuracy: 0.6981 - val_loss: 1.1788 - val_accuracy: 0.6250\n",
      "Epoch 46/50\n",
      "392/392 [==============================] - 1s 3ms/step - loss: 0.6342 - accuracy: 0.7313 - val_loss: 1.1158 - val_accuracy: 0.6875\n",
      "Epoch 47/50\n",
      "392/392 [==============================] - 1s 3ms/step - loss: 0.6340 - accuracy: 0.7352 - val_loss: 1.4542 - val_accuracy: 0.6250\n",
      "Epoch 48/50\n",
      "392/392 [==============================] - 1s 3ms/step - loss: 0.6238 - accuracy: 0.7390 - val_loss: 1.0720 - val_accuracy: 0.6250\n",
      "Epoch 49/50\n",
      "392/392 [==============================] - 1s 3ms/step - loss: 0.6069 - accuracy: 0.7307 - val_loss: 0.9957 - val_accuracy: 0.6875\n",
      "Epoch 50/50\n",
      "392/392 [==============================] - 1s 2ms/step - loss: 0.6035 - accuracy: 0.7415 - val_loss: 1.0927 - val_accuracy: 0.7500\n"
     ]
    },
    {
     "data": {
      "image/png": "[encoded data removed]",
      "text/plain": [
       "<Figure size 432x288 with 1 Axes>"
      ]
     },
     "metadata": {
      "needs_background": "light"
     },
     "output_type": "display_data"
    }
   ],
   "source": [
    "import keras\n",
    "from matplotlib import pyplot as plt\n",
    "history = model_neural.fit(scaled_X_train, y_train,validation_split = 0.01, epochs=50, batch_size=4)\n",
    "plt.plot(history.history['accuracy'])\n",
    "plt.plot(history.history['val_accuracy'])\n",
    "plt.title('model accuracy')\n",
    "plt.ylabel('accuracy')\n",
    "plt.xlabel('epoch')\n",
    "plt.legend(['train', 'val'], loc='upper left')\n",
    "plt.show()"
   ]
  },
  {
   "cell_type": "markdown",
   "id": "9cf80c96",
   "metadata": {},
   "source": [
    "Taken from https://stackoverflow.com/questions/41908379/keras-plot-training-validation-and-test-set-accuracys"
   ]
  },
  {
   "cell_type": "code",
   "execution_count": 207,
   "id": "9b0afa1e",
   "metadata": {},
   "outputs": [
    {
     "data": {
      "image/png": "[encoded data removed]",
      "text/plain": [
       "<Figure size 432x288 with 1 Axes>"
      ]
     },
     "metadata": {
      "needs_background": "light"
     },
     "output_type": "display_data"
    }
   ],
   "source": [
    "plt.plot(history.history['loss'])\n",
    "plt.plot(history.history['val_loss'])\n",
    "plt.title('model loss')\n",
    "plt.ylabel('loss')\n",
    "plt.xlabel('epoch')\n",
    "plt.legend(['train', 'val'], loc='upper left')\n",
    "plt.show()"
   ]
  },
  {
   "cell_type": "markdown",
   "id": "cc93c002",
   "metadata": {},
   "source": [
    "### Conclusion"
   ]
  },
  {
   "cell_type": "markdown",
   "id": "98d121e1",
   "metadata": {},
   "source": [
    "The neural network has much better accuracy scores when compared to the multivariable regression models. This is most likely due to the fact that the neural network having a greater training size, although at the cost of time because the neural network takes much longer to process compared to the regression models. "
   ]
  }
 ],
 "metadata": {
  "kernelspec": {
   "display_name": "Python 3 (ipykernel)",
   "language": "python",
   "name": "python3"
  },
  "language_info": {
   "codemirror_mode": {
    "name": "ipython",
    "version": 3
   },
   "file_extension": ".py",
   "mimetype": "text/x-python",
   "name": "python",
   "nbconvert_exporter": "python",
   "pygments_lexer": "ipython3",
   "version": "3.9.12"
  }
 },
 "nbformat": 4,
 "nbformat_minor": 5
}
